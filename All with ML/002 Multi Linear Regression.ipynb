{
 "cells": [
  {
   "cell_type": "code",
   "execution_count": 7,
   "metadata": {},
   "outputs": [
    {
     "ename": "AttributeError",
     "evalue": "'function' object has no attribute 'apply'",
     "output_type": "error",
     "traceback": [
      "\u001b[1;31m---------------------------------------------------------------------------\u001b[0m",
      "\u001b[1;31mAttributeError\u001b[0m                            Traceback (most recent call last)",
      "\u001b[1;32m<ipython-input-7-0447add5f083>\u001b[0m in \u001b[0;36m<module>\u001b[1;34m\u001b[0m\n\u001b[0;32m      1\u001b[0m \u001b[1;32mdef\u001b[0m \u001b[0mf\u001b[0m\u001b[1;33m(\u001b[0m\u001b[0mx\u001b[0m\u001b[1;33m)\u001b[0m\u001b[1;33m:\u001b[0m\u001b[1;33m\u001b[0m\u001b[1;33m\u001b[0m\u001b[0m\n\u001b[0;32m      2\u001b[0m   \u001b[1;32mreturn\u001b[0m \u001b[1;33m(\u001b[0m\u001b[0mx\u001b[0m\u001b[1;33m+\u001b[0m\u001b[1;36m2\u001b[0m\u001b[1;33m)\u001b[0m\u001b[1;33m*\u001b[0m\u001b[1;36m2\u001b[0m\u001b[1;33m\u001b[0m\u001b[1;33m\u001b[0m\u001b[0m\n\u001b[1;32m----> 3\u001b[1;33m \u001b[0mprint\u001b[0m\u001b[1;33m(\u001b[0m\u001b[0mf\u001b[0m\u001b[1;33m.\u001b[0m\u001b[0mapply\u001b[0m\u001b[1;33m(\u001b[0m\u001b[1;33m[\u001b[0m\u001b[1;36m1\u001b[0m\u001b[1;33m,\u001b[0m\u001b[1;36m2\u001b[0m\u001b[1;33m,\u001b[0m\u001b[1;36m3\u001b[0m\u001b[1;33m,\u001b[0m\u001b[1;36m4\u001b[0m\u001b[1;33m]\u001b[0m\u001b[1;33m)\u001b[0m\u001b[1;33m)\u001b[0m\u001b[1;33m\u001b[0m\u001b[1;33m\u001b[0m\u001b[0m\n\u001b[0m",
      "\u001b[1;31mAttributeError\u001b[0m: 'function' object has no attribute 'apply'"
     ]
    }
   ],
   "source": [
    "def f(x):    \n",
    "  return (x+2)*2    \n",
    "print(f.apply([1,2,3,4]))"
   ]
  },
  {
   "cell_type": "code",
   "execution_count": 1,
   "metadata": {},
   "outputs": [
    {
     "data": {
      "text/html": [
       "<div>\n",
       "<style scoped>\n",
       "    .dataframe tbody tr th:only-of-type {\n",
       "        vertical-align: middle;\n",
       "    }\n",
       "\n",
       "    .dataframe tbody tr th {\n",
       "        vertical-align: top;\n",
       "    }\n",
       "\n",
       "    .dataframe thead th {\n",
       "        text-align: right;\n",
       "    }\n",
       "</style>\n",
       "<table border=\"1\" class=\"dataframe\">\n",
       "  <thead>\n",
       "    <tr style=\"text-align: right;\">\n",
       "      <th></th>\n",
       "      <th>No</th>\n",
       "      <th>X1 transaction date</th>\n",
       "      <th>X2 house age</th>\n",
       "      <th>X3 distance to the nearest MRT station</th>\n",
       "      <th>X4 number of convenience stores</th>\n",
       "      <th>X5 latitude</th>\n",
       "      <th>X6 longitude</th>\n",
       "      <th>Y house price of unit area</th>\n",
       "    </tr>\n",
       "  </thead>\n",
       "  <tbody>\n",
       "    <tr>\n",
       "      <th>0</th>\n",
       "      <td>1</td>\n",
       "      <td>2012.917</td>\n",
       "      <td>32.0</td>\n",
       "      <td>84.87882</td>\n",
       "      <td>10</td>\n",
       "      <td>24.98298</td>\n",
       "      <td>121.54024</td>\n",
       "      <td>37.9</td>\n",
       "    </tr>\n",
       "    <tr>\n",
       "      <th>1</th>\n",
       "      <td>2</td>\n",
       "      <td>2012.917</td>\n",
       "      <td>19.5</td>\n",
       "      <td>306.59470</td>\n",
       "      <td>9</td>\n",
       "      <td>24.98034</td>\n",
       "      <td>121.53951</td>\n",
       "      <td>42.2</td>\n",
       "    </tr>\n",
       "    <tr>\n",
       "      <th>2</th>\n",
       "      <td>3</td>\n",
       "      <td>2013.583</td>\n",
       "      <td>13.3</td>\n",
       "      <td>561.98450</td>\n",
       "      <td>5</td>\n",
       "      <td>24.98746</td>\n",
       "      <td>121.54391</td>\n",
       "      <td>47.3</td>\n",
       "    </tr>\n",
       "    <tr>\n",
       "      <th>3</th>\n",
       "      <td>4</td>\n",
       "      <td>2013.500</td>\n",
       "      <td>13.3</td>\n",
       "      <td>561.98450</td>\n",
       "      <td>5</td>\n",
       "      <td>24.98746</td>\n",
       "      <td>121.54391</td>\n",
       "      <td>54.8</td>\n",
       "    </tr>\n",
       "    <tr>\n",
       "      <th>4</th>\n",
       "      <td>5</td>\n",
       "      <td>2012.833</td>\n",
       "      <td>5.0</td>\n",
       "      <td>390.56840</td>\n",
       "      <td>5</td>\n",
       "      <td>24.97937</td>\n",
       "      <td>121.54245</td>\n",
       "      <td>43.1</td>\n",
       "    </tr>\n",
       "  </tbody>\n",
       "</table>\n",
       "</div>"
      ],
      "text/plain": [
       "   No  X1 transaction date  X2 house age  \\\n",
       "0   1             2012.917          32.0   \n",
       "1   2             2012.917          19.5   \n",
       "2   3             2013.583          13.3   \n",
       "3   4             2013.500          13.3   \n",
       "4   5             2012.833           5.0   \n",
       "\n",
       "   X3 distance to the nearest MRT station  X4 number of convenience stores  \\\n",
       "0                                84.87882                               10   \n",
       "1                               306.59470                                9   \n",
       "2                               561.98450                                5   \n",
       "3                               561.98450                                5   \n",
       "4                               390.56840                                5   \n",
       "\n",
       "   X5 latitude  X6 longitude  Y house price of unit area  \n",
       "0     24.98298     121.54024                        37.9  \n",
       "1     24.98034     121.53951                        42.2  \n",
       "2     24.98746     121.54391                        47.3  \n",
       "3     24.98746     121.54391                        54.8  \n",
       "4     24.97937     121.54245                        43.1  "
      ]
     },
     "execution_count": 1,
     "metadata": {},
     "output_type": "execute_result"
    }
   ],
   "source": [
    "import os\n",
    "import pandas as pd\n",
    "df = pd.read_csv(\"data/Realestate.csv\")\n",
    "df.head()"
   ]
  },
  {
   "cell_type": "code",
   "execution_count": 2,
   "metadata": {},
   "outputs": [
    {
     "data": {
      "text/plain": [
       "Index(['No', 'X1 transaction date', 'X2 house age',\n",
       "       'X3 distance to the nearest MRT station',\n",
       "       'X4 number of convenience stores', 'X5 latitude', 'X6 longitude',\n",
       "       'Y house price of unit area'],\n",
       "      dtype='object')"
      ]
     },
     "execution_count": 2,
     "metadata": {},
     "output_type": "execute_result"
    }
   ],
   "source": [
    "df.columns"
   ]
  },
  {
   "cell_type": "code",
   "execution_count": 3,
   "metadata": {},
   "outputs": [
    {
     "data": {
      "text/plain": [
       "(414, 8)"
      ]
     },
     "execution_count": 3,
     "metadata": {},
     "output_type": "execute_result"
    }
   ],
   "source": [
    "df.shape"
   ]
  },
  {
   "cell_type": "code",
   "execution_count": 4,
   "metadata": {},
   "outputs": [],
   "source": [
    "import numpy as np\n",
    "from sklearn.linear_model import LinearRegression\n",
    "from sklearn.model_selection import train_test_split\n",
    "from sklearn.metrics import accuracy_score, r2_score\n",
    "from ipywidgets import interact"
   ]
  },
  {
   "cell_type": "code",
   "execution_count": 5,
   "metadata": {},
   "outputs": [
    {
     "data": {
      "text/plain": [
       "No                                          int64\n",
       "X1 transaction date                       float64\n",
       "X2 house age                              float64\n",
       "X3 distance to the nearest MRT station    float64\n",
       "X4 number of convenience stores             int64\n",
       "X5 latitude                               float64\n",
       "X6 longitude                              float64\n",
       "Y house price of unit area                float64\n",
       "dtype: object"
      ]
     },
     "execution_count": 5,
     "metadata": {},
     "output_type": "execute_result"
    }
   ],
   "source": [
    "df.dtypes"
   ]
  },
  {
   "cell_type": "code",
   "execution_count": 6,
   "metadata": {},
   "outputs": [
    {
     "data": {
      "text/html": [
       "<div>\n",
       "<style scoped>\n",
       "    .dataframe tbody tr th:only-of-type {\n",
       "        vertical-align: middle;\n",
       "    }\n",
       "\n",
       "    .dataframe tbody tr th {\n",
       "        vertical-align: top;\n",
       "    }\n",
       "\n",
       "    .dataframe thead th {\n",
       "        text-align: right;\n",
       "    }\n",
       "</style>\n",
       "<table border=\"1\" class=\"dataframe\">\n",
       "  <thead>\n",
       "    <tr style=\"text-align: right;\">\n",
       "      <th></th>\n",
       "      <th>No</th>\n",
       "      <th>X1 transaction date</th>\n",
       "      <th>X2 house age</th>\n",
       "      <th>X3 distance to the nearest MRT station</th>\n",
       "      <th>X4 number of convenience stores</th>\n",
       "      <th>X5 latitude</th>\n",
       "      <th>X6 longitude</th>\n",
       "      <th>Y house price of unit area</th>\n",
       "    </tr>\n",
       "  </thead>\n",
       "  <tbody>\n",
       "    <tr>\n",
       "      <th>No</th>\n",
       "      <td>1.000000</td>\n",
       "      <td>-0.048658</td>\n",
       "      <td>-0.032808</td>\n",
       "      <td>-0.013573</td>\n",
       "      <td>-0.012699</td>\n",
       "      <td>-0.010110</td>\n",
       "      <td>-0.011059</td>\n",
       "      <td>-0.028587</td>\n",
       "    </tr>\n",
       "    <tr>\n",
       "      <th>X1 transaction date</th>\n",
       "      <td>-0.048658</td>\n",
       "      <td>1.000000</td>\n",
       "      <td>0.017549</td>\n",
       "      <td>0.060880</td>\n",
       "      <td>0.009635</td>\n",
       "      <td>0.035058</td>\n",
       "      <td>-0.041082</td>\n",
       "      <td>0.087491</td>\n",
       "    </tr>\n",
       "    <tr>\n",
       "      <th>X2 house age</th>\n",
       "      <td>-0.032808</td>\n",
       "      <td>0.017549</td>\n",
       "      <td>1.000000</td>\n",
       "      <td>0.025622</td>\n",
       "      <td>0.049593</td>\n",
       "      <td>0.054420</td>\n",
       "      <td>-0.048520</td>\n",
       "      <td>-0.210567</td>\n",
       "    </tr>\n",
       "    <tr>\n",
       "      <th>X3 distance to the nearest MRT station</th>\n",
       "      <td>-0.013573</td>\n",
       "      <td>0.060880</td>\n",
       "      <td>0.025622</td>\n",
       "      <td>1.000000</td>\n",
       "      <td>-0.602519</td>\n",
       "      <td>-0.591067</td>\n",
       "      <td>-0.806317</td>\n",
       "      <td>-0.673613</td>\n",
       "    </tr>\n",
       "    <tr>\n",
       "      <th>X4 number of convenience stores</th>\n",
       "      <td>-0.012699</td>\n",
       "      <td>0.009635</td>\n",
       "      <td>0.049593</td>\n",
       "      <td>-0.602519</td>\n",
       "      <td>1.000000</td>\n",
       "      <td>0.444143</td>\n",
       "      <td>0.449099</td>\n",
       "      <td>0.571005</td>\n",
       "    </tr>\n",
       "    <tr>\n",
       "      <th>X5 latitude</th>\n",
       "      <td>-0.010110</td>\n",
       "      <td>0.035058</td>\n",
       "      <td>0.054420</td>\n",
       "      <td>-0.591067</td>\n",
       "      <td>0.444143</td>\n",
       "      <td>1.000000</td>\n",
       "      <td>0.412924</td>\n",
       "      <td>0.546307</td>\n",
       "    </tr>\n",
       "    <tr>\n",
       "      <th>X6 longitude</th>\n",
       "      <td>-0.011059</td>\n",
       "      <td>-0.041082</td>\n",
       "      <td>-0.048520</td>\n",
       "      <td>-0.806317</td>\n",
       "      <td>0.449099</td>\n",
       "      <td>0.412924</td>\n",
       "      <td>1.000000</td>\n",
       "      <td>0.523287</td>\n",
       "    </tr>\n",
       "    <tr>\n",
       "      <th>Y house price of unit area</th>\n",
       "      <td>-0.028587</td>\n",
       "      <td>0.087491</td>\n",
       "      <td>-0.210567</td>\n",
       "      <td>-0.673613</td>\n",
       "      <td>0.571005</td>\n",
       "      <td>0.546307</td>\n",
       "      <td>0.523287</td>\n",
       "      <td>1.000000</td>\n",
       "    </tr>\n",
       "  </tbody>\n",
       "</table>\n",
       "</div>"
      ],
      "text/plain": [
       "                                              No  X1 transaction date  \\\n",
       "No                                      1.000000            -0.048658   \n",
       "X1 transaction date                    -0.048658             1.000000   \n",
       "X2 house age                           -0.032808             0.017549   \n",
       "X3 distance to the nearest MRT station -0.013573             0.060880   \n",
       "X4 number of convenience stores        -0.012699             0.009635   \n",
       "X5 latitude                            -0.010110             0.035058   \n",
       "X6 longitude                           -0.011059            -0.041082   \n",
       "Y house price of unit area             -0.028587             0.087491   \n",
       "\n",
       "                                        X2 house age  \\\n",
       "No                                         -0.032808   \n",
       "X1 transaction date                         0.017549   \n",
       "X2 house age                                1.000000   \n",
       "X3 distance to the nearest MRT station      0.025622   \n",
       "X4 number of convenience stores             0.049593   \n",
       "X5 latitude                                 0.054420   \n",
       "X6 longitude                               -0.048520   \n",
       "Y house price of unit area                 -0.210567   \n",
       "\n",
       "                                        X3 distance to the nearest MRT station  \\\n",
       "No                                                                   -0.013573   \n",
       "X1 transaction date                                                   0.060880   \n",
       "X2 house age                                                          0.025622   \n",
       "X3 distance to the nearest MRT station                                1.000000   \n",
       "X4 number of convenience stores                                      -0.602519   \n",
       "X5 latitude                                                          -0.591067   \n",
       "X6 longitude                                                         -0.806317   \n",
       "Y house price of unit area                                           -0.673613   \n",
       "\n",
       "                                        X4 number of convenience stores  \\\n",
       "No                                                            -0.012699   \n",
       "X1 transaction date                                            0.009635   \n",
       "X2 house age                                                   0.049593   \n",
       "X3 distance to the nearest MRT station                        -0.602519   \n",
       "X4 number of convenience stores                                1.000000   \n",
       "X5 latitude                                                    0.444143   \n",
       "X6 longitude                                                   0.449099   \n",
       "Y house price of unit area                                     0.571005   \n",
       "\n",
       "                                        X5 latitude  X6 longitude  \\\n",
       "No                                        -0.010110     -0.011059   \n",
       "X1 transaction date                        0.035058     -0.041082   \n",
       "X2 house age                               0.054420     -0.048520   \n",
       "X3 distance to the nearest MRT station    -0.591067     -0.806317   \n",
       "X4 number of convenience stores            0.444143      0.449099   \n",
       "X5 latitude                                1.000000      0.412924   \n",
       "X6 longitude                               0.412924      1.000000   \n",
       "Y house price of unit area                 0.546307      0.523287   \n",
       "\n",
       "                                        Y house price of unit area  \n",
       "No                                                       -0.028587  \n",
       "X1 transaction date                                       0.087491  \n",
       "X2 house age                                             -0.210567  \n",
       "X3 distance to the nearest MRT station                   -0.673613  \n",
       "X4 number of convenience stores                           0.571005  \n",
       "X5 latitude                                               0.546307  \n",
       "X6 longitude                                              0.523287  \n",
       "Y house price of unit area                                1.000000  "
      ]
     },
     "execution_count": 6,
     "metadata": {},
     "output_type": "execute_result"
    }
   ],
   "source": [
    "df.corr()"
   ]
  },
  {
   "cell_type": "code",
   "execution_count": 7,
   "metadata": {},
   "outputs": [
    {
     "data": {
      "text/plain": [
       "No                                        0\n",
       "X1 transaction date                       0\n",
       "X2 house age                              0\n",
       "X3 distance to the nearest MRT station    0\n",
       "X4 number of convenience stores           0\n",
       "X5 latitude                               0\n",
       "X6 longitude                              0\n",
       "Y house price of unit area                0\n",
       "dtype: int64"
      ]
     },
     "execution_count": 7,
     "metadata": {},
     "output_type": "execute_result"
    }
   ],
   "source": [
    "df.isna().sum()"
   ]
  },
  {
   "cell_type": "code",
   "execution_count": 8,
   "metadata": {
    "scrolled": true
   },
   "outputs": [
    {
     "data": {
      "text/plain": [
       "<matplotlib.axes._subplots.AxesSubplot at 0x175add2b6d8>"
      ]
     },
     "execution_count": 8,
     "metadata": {},
     "output_type": "execute_result"
    },
    {
     "data": {
      "image/png": "[encoded data removed]",
      "text/plain": [
       "<Figure size 432x288 with 1 Axes>"
      ]
     },
     "metadata": {
      "needs_background": "light"
     },
     "output_type": "display_data"
    }
   ],
   "source": [
    "import seaborn as sns\n",
    "sns.residplot('X3 distance to the nearest MRT station', 'Y house price of unit area', data = df)"
   ]
  },
  {
   "cell_type": "code",
   "execution_count": 9,
   "metadata": {},
   "outputs": [],
   "source": [
    "X = df.iloc[:, 0:4].values\n",
    "y = df.iloc[:, -1].values"
   ]
  },
  {
   "cell_type": "code",
   "execution_count": 10,
   "metadata": {},
   "outputs": [],
   "source": [
    "x_train, x_test, y_train, y_test = train_test_split(X, y, test_size = 0.3, random_state = 16)"
   ]
  },
  {
   "cell_type": "code",
   "execution_count": 14,
   "metadata": {},
   "outputs": [
    {
     "data": {
      "text/plain": [
       "LinearRegression(copy_X=True, fit_intercept=True, n_jobs=None, normalize=False)"
      ]
     },
     "execution_count": 14,
     "metadata": {},
     "output_type": "execute_result"
    }
   ],
   "source": [
    "model = LinearRegression()\n",
    "model.fit(x_train, y_train)"
   ]
  },
  {
   "cell_type": "code",
   "execution_count": 17,
   "metadata": {},
   "outputs": [
    {
     "data": {
      "text/plain": [
       "array([44.24231298, -0.90420232, 30.14808844, 40.07192232, 34.17956737,\n",
       "       43.79944588, 34.98996762, 45.61153078, 44.78486423, 47.84042378,\n",
       "       47.5042008 , 38.26971569, 32.14741697, 46.01486592, 36.89780944,\n",
       "       45.34448261, 41.86561354, 42.97852455, 46.77520246, 39.52556869,\n",
       "       38.5073405 , 32.88157685, 36.64784781, 38.51081516, 39.63645104,\n",
       "       41.88931357, 36.71693868, 38.58378609, 32.10876596, 38.53789518,\n",
       "       44.5944382 , 43.60182808, 19.35561478, 37.76781633, 13.67009864,\n",
       "       47.35781115, 13.82082804, 49.10470093, 41.42183553, 15.87392359,\n",
       "       36.94676495, 36.77874187, 38.38220902, 45.59202258, 31.49458305,\n",
       "       47.11415933, 34.44810535, 35.65434734, 28.05183322, 39.47926164,\n",
       "       49.15159292, 48.83663363, 49.92662836, 36.64039038, 47.08462327,\n",
       "       21.69324372, 37.53939453, 38.53467988, 43.83070028, 26.54848985,\n",
       "       45.35959636, 34.17607894, 16.35609448, 44.20718424, 43.75921536,\n",
       "       41.28293662, 35.28790179, 29.83709271, 42.7413096 , 45.94618904,\n",
       "       47.87927293, 48.10063168, 45.52993577, 17.07844222, 29.83895333,\n",
       "       48.6933893 , 41.16934726, 48.15280966, 44.38124786, 46.50925726,\n",
       "       31.53779136, 32.99933028, 36.54611549, 34.74170439, 45.63817687,\n",
       "       46.13754088, 38.16951521, 17.98833024, 43.58661552, 35.06675372,\n",
       "       39.6995492 , 45.66372108, 15.34252094, 41.83400545, 41.21196463,\n",
       "       19.17186153, 13.78826889, 49.09898683, 43.93969289, 36.93745578,\n",
       "       47.69487543, 42.76720771, 42.70265627, 38.16807024, 35.32722445,\n",
       "       25.17733871, 17.83214487, 38.82513984, 46.47452136, 39.2076795 ,\n",
       "       12.27463342, 44.62869035, 25.55358309, 41.67077931, 38.47065269,\n",
       "       40.37187827, 31.40319284, 44.75253212, 46.10645239, 29.86942129,\n",
       "       30.7841815 , 43.06882329, 36.93322449, 44.5188914 , 45.64993775,\n",
       "       48.06315648, 38.30418097, 19.80339945, 40.55933178, 44.08263654,\n",
       "       46.81409318, 44.57768763, 39.15551679, 16.11691137, 45.74446955,\n",
       "       44.26581092, 42.61367029, 37.27987286, 44.22886144,  2.2851452 ,\n",
       "       35.48301368, 15.71311503, 47.80138956, 38.42567725, 29.78970718,\n",
       "       24.80800911, 39.65478303, 34.49647557, 40.31423121, 48.98425343,\n",
       "       47.39662874, 38.78360864, 33.52553989, 35.86337519, 41.15670627,\n",
       "       48.61398937, 40.38097732, 41.11244774, 35.27019442, 36.94580232,\n",
       "       31.41611593, 40.52087432, 48.78922174, 38.80204549, 43.3592655 ,\n",
       "       35.20501968, 35.6260845 , 43.45544489, 46.96054439, 45.35360516,\n",
       "       19.12733454, 44.66440356, 38.90917339, 39.81542911, 40.85287771,\n",
       "       47.78471382, 41.02671202, 45.45423124, 37.33863648, 42.95005235,\n",
       "       43.22453368,  8.93429908, 31.53793023, 45.41168452, 43.70605868,\n",
       "       38.39897377, 39.63315069, 42.18048508, 41.09601382, 40.90686494,\n",
       "       45.27439868, 14.97212093, 41.25679005, 40.78788339, 41.75285592,\n",
       "       38.69019013, 16.15827505, 46.62134875, 35.47646706, 36.02122631,\n",
       "       36.83665837, 37.52545826, 47.71029368, 44.00580443, 43.59621463,\n",
       "       46.12971751, 40.34136742, 41.68592549, 42.86970592, 39.5187744 ,\n",
       "       38.30902765, 40.21195196, 19.5903594 , 40.35646832, 43.89457368,\n",
       "       42.38537465, 32.8096257 , 30.11954982, 45.9937608 , 45.13264872,\n",
       "       45.16486371, 29.29862637, 37.47977047, 44.07130782, 44.54924607,\n",
       "       45.14724158, 42.50041441, 33.2905035 , 31.71794129, 40.44660466,\n",
       "       46.16829961, 38.47236163, 22.47382573, 45.93722241, 45.54629466,\n",
       "       46.98881754, 30.42936552, 21.48526451, 40.98892838, 31.07246492,\n",
       "       40.60189551, 47.87460634, 44.65271708, 45.54327358, 41.09404266,\n",
       "       40.16338746, 15.24695029, 41.77243402, 38.05760729, 37.639006  ,\n",
       "       40.84599299, 39.25484636, 46.46823442,  9.60423416, 36.0457305 ,\n",
       "       44.27212868, 26.01275252, 40.12058541, 36.42194206,  6.5331544 ,\n",
       "       47.96096969, 45.86761241, 39.42709703, 40.57725385, 41.97030805,\n",
       "       43.76474483, 14.52976404, 36.02106316, 33.64515097, 42.75768489,\n",
       "       43.9967104 , 41.09805141, 42.35249802, 46.80766989, -2.79315053,\n",
       "       30.93800788, 44.76020132, 35.45838036, 43.32512568, 40.76140683,\n",
       "       36.25515622, 35.8585708 , 47.95226038, 49.63112512, 37.42082472,\n",
       "       41.09614609, 45.31630208, 41.02310195, 35.34793582])"
      ]
     },
     "execution_count": 17,
     "metadata": {},
     "output_type": "execute_result"
    }
   ],
   "source": [
    "y_pred = model.predict(x_train)\n",
    "y_pred"
   ]
  },
  {
   "cell_type": "code",
   "execution_count": 19,
   "metadata": {},
   "outputs": [
    {
     "data": {
      "text/plain": [
       "array([33.32816822, 13.10772633, 43.26509595, 14.2351448 , 14.63427051,\n",
       "       34.75188016, 48.96874175, 40.65636258, 37.25686331, 27.95513687,\n",
       "       43.36568338, 43.02246033, 45.19577812, 41.54853771, 37.77857548,\n",
       "       44.11885541, 23.92271854, 44.19394238, 46.26030316, 46.03396289,\n",
       "       44.25474709, 40.87790661, 48.7771996 , 39.63572789, 39.06295919,\n",
       "       45.88755697, 37.03351564,  5.59886482, 43.90729319, 37.9239612 ,\n",
       "       44.23765944, 38.51447121, 35.74697046, 44.44425227, 41.30223538,\n",
       "       35.41647697, 42.39886085, 40.67605564, 20.07702579, 36.3051007 ,\n",
       "       45.36696903, 39.80682719, 50.12090773, 40.8080376 , 35.64297489,\n",
       "       49.85837915, 44.72624661, 40.36391258, 39.96597926, 28.09751731,\n",
       "       40.09452383, 44.0540324 , 33.58498923, 41.13851666, 40.95823062,\n",
       "       37.07052525, 40.98520963, 39.28599794, 39.30880012, 46.95571667,\n",
       "       42.76890891, 43.86327656, 45.46597116, 17.9995915 , 11.23870742,\n",
       "       35.84044946, 37.47899132, 43.16046135, 42.97796602, 42.17303617,\n",
       "       31.09367729, 40.69728198, 36.95774314, 37.56242105, 46.50553182,\n",
       "       39.53154792, 36.52174928, 33.09831782, 46.02061613, 35.69438274,\n",
       "       32.49594191, 35.03411017, 30.52343553, 41.87087175, 42.51528816,\n",
       "       43.33744616, 37.93733677, 44.0699825 , 41.9289279 , 44.52310793,\n",
       "       38.20111984, 24.47700973, 41.88510557, 34.10611708, 45.8111236 ,\n",
       "       46.87773523, 40.89830542, 35.88338467, 34.07086277, 39.58950954,\n",
       "       36.22599797, 45.36724191, 23.28237527, 45.2424511 , 47.37531751,\n",
       "       44.69172905, 34.72689636, 41.23344995, 32.87466012, 45.6261292 ,\n",
       "       41.49489391, 45.10677022, 26.5024664 , 33.14658736, 19.98608552,\n",
       "       46.95253753, 34.88447382, 41.8914301 , 42.42866279, 42.10888765,\n",
       "       36.64246892, 46.89733773, 43.57542983, 45.16893724, 36.72993953])"
      ]
     },
     "execution_count": 19,
     "metadata": {},
     "output_type": "execute_result"
    }
   ],
   "source": [
    "y_pred = model.predict(x_test)\n",
    "y_pred"
   ]
  },
  {
   "cell_type": "code",
   "execution_count": null,
   "metadata": {},
   "outputs": [],
   "source": []
  },
  {
   "cell_type": "code",
   "execution_count": null,
   "metadata": {},
   "outputs": [],
   "source": []
  },
  {
   "cell_type": "code",
   "execution_count": null,
   "metadata": {},
   "outputs": [],
   "source": []
  },
  {
   "cell_type": "code",
   "execution_count": null,
   "metadata": {},
   "outputs": [],
   "source": []
  }
 ],
 "metadata": {
  "kernelspec": {
   "display_name": "Python 3",
   "language": "python",
   "name": "python3"
  },
  "language_info": {
   "codemirror_mode": {
    "name": "ipython",
    "version": 3
   },
   "file_extension": ".py",
   "mimetype": "text/x-python",
   "name": "python",
   "nbconvert_exporter": "python",
   "pygments_lexer": "ipython3",
   "version": "3.7.3"
  }
 },
 "nbformat": 4,
 "nbformat_minor": 2
}
