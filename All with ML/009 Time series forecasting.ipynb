{
 "cells": [
  {
   "cell_type": "code",
   "execution_count": 1,
   "metadata": {},
   "outputs": [],
   "source": [
    "import pandas as pd\n",
    "df = pd.read_csv('data/DCOILBRENTEU.csv')"
   ]
  },
  {
   "cell_type": "code",
   "execution_count": 2,
   "metadata": {},
   "outputs": [
    {
     "data": {
      "text/html": [
       "<div>\n",
       "<style scoped>\n",
       "    .dataframe tbody tr th:only-of-type {\n",
       "        vertical-align: middle;\n",
       "    }\n",
       "\n",
       "    .dataframe tbody tr th {\n",
       "        vertical-align: top;\n",
       "    }\n",
       "\n",
       "    .dataframe thead th {\n",
       "        text-align: right;\n",
       "    }\n",
       "</style>\n",
       "<table border=\"1\" class=\"dataframe\">\n",
       "  <thead>\n",
       "    <tr style=\"text-align: right;\">\n",
       "      <th></th>\n",
       "      <th>DATE</th>\n",
       "      <th>DCOILBRENTEU</th>\n",
       "    </tr>\n",
       "  </thead>\n",
       "  <tbody>\n",
       "    <tr>\n",
       "      <th>0</th>\n",
       "      <td>2015-06-08</td>\n",
       "      <td>61.33</td>\n",
       "    </tr>\n",
       "    <tr>\n",
       "      <th>1</th>\n",
       "      <td>2015-06-09</td>\n",
       "      <td>63.23</td>\n",
       "    </tr>\n",
       "    <tr>\n",
       "      <th>2</th>\n",
       "      <td>2015-06-10</td>\n",
       "      <td>64.68</td>\n",
       "    </tr>\n",
       "    <tr>\n",
       "      <th>3</th>\n",
       "      <td>2015-06-11</td>\n",
       "      <td>63.76</td>\n",
       "    </tr>\n",
       "    <tr>\n",
       "      <th>4</th>\n",
       "      <td>2015-06-12</td>\n",
       "      <td>63.19</td>\n",
       "    </tr>\n",
       "  </tbody>\n",
       "</table>\n",
       "</div>"
      ],
      "text/plain": [
       "         DATE DCOILBRENTEU\n",
       "0  2015-06-08        61.33\n",
       "1  2015-06-09        63.23\n",
       "2  2015-06-10        64.68\n",
       "3  2015-06-11        63.76\n",
       "4  2015-06-12        63.19"
      ]
     },
     "execution_count": 2,
     "metadata": {},
     "output_type": "execute_result"
    }
   ],
   "source": [
    "df.head()"
   ]
  },
  {
   "cell_type": "code",
   "execution_count": 3,
   "metadata": {},
   "outputs": [
    {
     "data": {
      "text/plain": [
       "(1306, 2)"
      ]
     },
     "execution_count": 3,
     "metadata": {},
     "output_type": "execute_result"
    }
   ],
   "source": [
    "df.shape"
   ]
  },
  {
   "cell_type": "code",
   "execution_count": 4,
   "metadata": {},
   "outputs": [
    {
     "data": {
      "text/plain": [
       "(1276, 2)"
      ]
     },
     "execution_count": 4,
     "metadata": {},
     "output_type": "execute_result"
    }
   ],
   "source": [
    "df = df[df.DCOILBRENTEU != '.']\n",
    "df.shape"
   ]
  },
  {
   "cell_type": "code",
   "execution_count": 5,
   "metadata": {},
   "outputs": [
    {
     "data": {
      "image/png": "[encoded data removed]",
      "text/plain": [
       "<Figure size 432x288 with 1 Axes>"
      ]
     },
     "metadata": {
      "needs_background": "light"
     },
     "output_type": "display_data"
    }
   ],
   "source": [
    "import matplotlib.pyplot as plt\n",
    "df_plot = df.iloc[:, 1:2].values.astype(float)\n",
    "plt.plot(df_plot, color = 'red', label = 'crude oil prices')\n",
    "plt.title('Crude Oil Prices Historical Data')\n",
    "plt.xlabel('Time (Days)')\n",
    "plt.ylabel('Crude Oil Prices')\n",
    "plt.legend()\n",
    "plt.show()"
   ]
  },
  {
   "cell_type": "code",
   "execution_count": 6,
   "metadata": {},
   "outputs": [
    {
     "name": "stderr",
     "output_type": "stream",
     "text": [
      "Using TensorFlow backend.\n",
      "C:\\Users\\SRAVAN\\Anaconda3\\lib\\site-packages\\tensorflow\\python\\framework\\dtypes.py:516: FutureWarning: Passing (type, 1) or '1type' as a synonym of type is deprecated; in a future version of numpy, it will be understood as (type, (1,)) / '(1,)type'.\n",
      "  _np_qint8 = np.dtype([(\"qint8\", np.int8, 1)])\n",
      "C:\\Users\\SRAVAN\\Anaconda3\\lib\\site-packages\\tensorflow\\python\\framework\\dtypes.py:517: FutureWarning: Passing (type, 1) or '1type' as a synonym of type is deprecated; in a future version of numpy, it will be understood as (type, (1,)) / '(1,)type'.\n",
      "  _np_quint8 = np.dtype([(\"quint8\", np.uint8, 1)])\n",
      "C:\\Users\\SRAVAN\\Anaconda3\\lib\\site-packages\\tensorflow\\python\\framework\\dtypes.py:518: FutureWarning: Passing (type, 1) or '1type' as a synonym of type is deprecated; in a future version of numpy, it will be understood as (type, (1,)) / '(1,)type'.\n",
      "  _np_qint16 = np.dtype([(\"qint16\", np.int16, 1)])\n",
      "C:\\Users\\SRAVAN\\Anaconda3\\lib\\site-packages\\tensorflow\\python\\framework\\dtypes.py:519: FutureWarning: Passing (type, 1) or '1type' as a synonym of type is deprecated; in a future version of numpy, it will be understood as (type, (1,)) / '(1,)type'.\n",
      "  _np_quint16 = np.dtype([(\"quint16\", np.uint16, 1)])\n",
      "C:\\Users\\SRAVAN\\Anaconda3\\lib\\site-packages\\tensorflow\\python\\framework\\dtypes.py:520: FutureWarning: Passing (type, 1) or '1type' as a synonym of type is deprecated; in a future version of numpy, it will be understood as (type, (1,)) / '(1,)type'.\n",
      "  _np_qint32 = np.dtype([(\"qint32\", np.int32, 1)])\n",
      "C:\\Users\\SRAVAN\\Anaconda3\\lib\\site-packages\\tensorflow\\python\\framework\\dtypes.py:525: FutureWarning: Passing (type, 1) or '1type' as a synonym of type is deprecated; in a future version of numpy, it will be understood as (type, (1,)) / '(1,)type'.\n",
      "  np_resource = np.dtype([(\"resource\", np.ubyte, 1)])\n",
      "C:\\Users\\SRAVAN\\Anaconda3\\lib\\site-packages\\tensorboard\\compat\\tensorflow_stub\\dtypes.py:541: FutureWarning: Passing (type, 1) or '1type' as a synonym of type is deprecated; in a future version of numpy, it will be understood as (type, (1,)) / '(1,)type'.\n",
      "  _np_qint8 = np.dtype([(\"qint8\", np.int8, 1)])\n",
      "C:\\Users\\SRAVAN\\Anaconda3\\lib\\site-packages\\tensorboard\\compat\\tensorflow_stub\\dtypes.py:542: FutureWarning: Passing (type, 1) or '1type' as a synonym of type is deprecated; in a future version of numpy, it will be understood as (type, (1,)) / '(1,)type'.\n",
      "  _np_quint8 = np.dtype([(\"quint8\", np.uint8, 1)])\n",
      "C:\\Users\\SRAVAN\\Anaconda3\\lib\\site-packages\\tensorboard\\compat\\tensorflow_stub\\dtypes.py:543: FutureWarning: Passing (type, 1) or '1type' as a synonym of type is deprecated; in a future version of numpy, it will be understood as (type, (1,)) / '(1,)type'.\n",
      "  _np_qint16 = np.dtype([(\"qint16\", np.int16, 1)])\n",
      "C:\\Users\\SRAVAN\\Anaconda3\\lib\\site-packages\\tensorboard\\compat\\tensorflow_stub\\dtypes.py:544: FutureWarning: Passing (type, 1) or '1type' as a synonym of type is deprecated; in a future version of numpy, it will be understood as (type, (1,)) / '(1,)type'.\n",
      "  _np_quint16 = np.dtype([(\"quint16\", np.uint16, 1)])\n",
      "C:\\Users\\SRAVAN\\Anaconda3\\lib\\site-packages\\tensorboard\\compat\\tensorflow_stub\\dtypes.py:545: FutureWarning: Passing (type, 1) or '1type' as a synonym of type is deprecated; in a future version of numpy, it will be understood as (type, (1,)) / '(1,)type'.\n",
      "  _np_qint32 = np.dtype([(\"qint32\", np.int32, 1)])\n",
      "C:\\Users\\SRAVAN\\Anaconda3\\lib\\site-packages\\tensorboard\\compat\\tensorflow_stub\\dtypes.py:550: FutureWarning: Passing (type, 1) or '1type' as a synonym of type is deprecated; in a future version of numpy, it will be understood as (type, (1,)) / '(1,)type'.\n",
      "  np_resource = np.dtype([(\"resource\", np.ubyte, 1)])\n"
     ]
    }
   ],
   "source": [
    "import numpy as np\n",
    "import pandas as pd\n",
    "from keras.preprocessing import sequence\n",
    "from keras.models import load_model"
   ]
  },
  {
   "cell_type": "code",
   "execution_count": 7,
   "metadata": {},
   "outputs": [],
   "source": [
    "batch_size = 64\n",
    "epochs = 120\n",
    "timesteps = 30"
   ]
  },
  {
   "cell_type": "code",
   "execution_count": 8,
   "metadata": {},
   "outputs": [
    {
     "data": {
      "text/plain": [
       "1276"
      ]
     },
     "execution_count": 8,
     "metadata": {},
     "output_type": "execute_result"
    }
   ],
   "source": [
    "length = len(df)\n",
    "length"
   ]
  },
  {
   "cell_type": "code",
   "execution_count": 9,
   "metadata": {},
   "outputs": [
    {
     "data": {
      "text/plain": [
       "1148.4"
      ]
     },
     "execution_count": 9,
     "metadata": {},
     "output_type": "execute_result"
    }
   ],
   "source": [
    "length *= 1 - 0.1\n",
    "length"
   ]
  },
  {
   "cell_type": "code",
   "execution_count": 10,
   "metadata": {},
   "outputs": [
    {
     "data": {
      "text/plain": [
       "60"
      ]
     },
     "execution_count": 10,
     "metadata": {},
     "output_type": "execute_result"
    }
   ],
   "source": [
    "1148%64"
   ]
  },
  {
   "cell_type": "code",
   "execution_count": 11,
   "metadata": {},
   "outputs": [],
   "source": [
    "def get_train_length(dataset, batch_size, test_percent):\n",
    "    length = len(dataset)\n",
    "    length *= 1 - test_percent\n",
    "    train_length_values = []\n",
    "    for x in range(int(length)-100, int(length)):\n",
    "        if x % batch_size == 0:\n",
    "            train_length_values.append(x)\n",
    "            print(x)\n",
    "    return max(train_length_values)"
   ]
  },
  {
   "cell_type": "code",
   "execution_count": 12,
   "metadata": {},
   "outputs": [
    {
     "name": "stdout",
     "output_type": "stream",
     "text": [
      "1088\n"
     ]
    }
   ],
   "source": [
    "length = get_train_length(df, 64, 0.1)"
   ]
  },
  {
   "cell_type": "code",
   "execution_count": 17,
   "metadata": {},
   "outputs": [],
   "source": [
    "upper_train = length + (2 * timesteps)\n",
    "df_train = df[0:upper_train]\n",
    "training_set = df_train.iloc[:, 1:2].values"
   ]
  },
  {
   "cell_type": "code",
   "execution_count": 21,
   "metadata": {},
   "outputs": [
    {
     "data": {
      "text/plain": [
       "(1148, 1)"
      ]
     },
     "execution_count": 21,
     "metadata": {},
     "output_type": "execute_result"
    }
   ],
   "source": [
    "training_set.shape"
   ]
  },
  {
   "cell_type": "code",
   "execution_count": 22,
   "metadata": {},
   "outputs": [
    {
     "data": {
      "text/plain": [
       "(1148, 1)"
      ]
     },
     "execution_count": 22,
     "metadata": {},
     "output_type": "execute_result"
    }
   ],
   "source": [
    "from sklearn.preprocessing import MinMaxScaler\n",
    "sc = MinMaxScaler(feature_range = (0, 1))\n",
    "training_set = sc.fit_transform(np.float64(training_set))\n",
    "training_set.shape"
   ]
  },
  {
   "cell_type": "code",
   "execution_count": 23,
   "metadata": {},
   "outputs": [
    {
     "data": {
      "text/plain": [
       "array([[0.58807859],\n",
       "       [0.61971362],\n",
       "       [0.64385614],\n",
       "       ...,\n",
       "       [0.64085914],\n",
       "       [0.61921412],\n",
       "       [0.61505162]])"
      ]
     },
     "execution_count": 23,
     "metadata": {},
     "output_type": "execute_result"
    }
   ],
   "source": [
    "training_set"
   ]
  },
  {
   "cell_type": "code",
   "execution_count": 26,
   "metadata": {},
   "outputs": [
    {
     "name": "stdout",
     "output_type": "stream",
     "text": [
      "1118\n",
      "1088\n",
      "1088\n"
     ]
    }
   ],
   "source": [
    "x_train = []\n",
    "y_train = []\n",
    "print(length + timesteps)\n",
    "for i in range(timesteps, length+timesteps):\n",
    "    x_train.append(training_set[i-timesteps: i, 0])\n",
    "    y_train.append(training_set[i:i+timesteps, 0])\n",
    "\n",
    "print(len(x_train))\n",
    "print(len(y_train))"
   ]
  },
  {
   "cell_type": "code",
   "execution_count": 29,
   "metadata": {},
   "outputs": [
    {
     "data": {
      "text/plain": [
       "[array([0.58807859, 0.61971362, 0.64385614, 0.62853813, 0.61904762,\n",
       "        0.58241758, 0.57842158, 0.57842158, 0.58874459, 0.55611056,\n",
       "        0.57492507, 0.59373959, 0.59307359, 0.56993007, 0.56826507,\n",
       "        0.54978355, 0.57109557, 0.59340659, 0.59473859, 0.55028305,\n",
       "        0.51914752, 0.47802198, 0.49433899, 0.52980353, 0.52797203,\n",
       "        0.52647353, 0.51931402, 0.52164502, 0.52114552, 0.50566101]),\n",
       " array([0.61971362, 0.64385614, 0.62853813, 0.61904762, 0.58241758,\n",
       "        0.57842158, 0.57842158, 0.58874459, 0.55611056, 0.57492507,\n",
       "        0.59373959, 0.59307359, 0.56993007, 0.56826507, 0.54978355,\n",
       "        0.57109557, 0.59340659, 0.59473859, 0.55028305, 0.51914752,\n",
       "        0.47802198, 0.49433899, 0.52980353, 0.52797203, 0.52647353,\n",
       "        0.51931402, 0.52164502, 0.52114552, 0.50566101, 0.50632701])]"
      ]
     },
     "execution_count": 29,
     "metadata": {},
     "output_type": "execute_result"
    }
   ],
   "source": [
    "x_train[0:2]"
   ]
  },
  {
   "cell_type": "code",
   "execution_count": 30,
   "metadata": {},
   "outputs": [
    {
     "data": {
      "text/plain": [
       "array([0.50632701, 0.498335  , 0.50532801, 0.495338  , 0.47086247,\n",
       "       0.46719947, 0.47102897, 0.47818848, 0.47086247, 0.45421245,\n",
       "       0.39094239, 0.38411588, 0.38344988, 0.36280386, 0.35847486,\n",
       "       0.37112887, 0.35497835, 0.37096237, 0.36630037, 0.36263736,\n",
       "       0.36230436, 0.34948385, 0.32867133, 0.32667333, 0.2968698 ,\n",
       "       0.25940726, 0.26390276, 0.26223776, 0.30719281, 0.36563437])"
      ]
     },
     "execution_count": 30,
     "metadata": {},
     "output_type": "execute_result"
    }
   ],
   "source": [
    "y_train[0]"
   ]
  },
  {
   "cell_type": "code",
   "execution_count": 31,
   "metadata": {},
   "outputs": [
    {
     "data": {
      "text/plain": [
       "(1088, 30)"
      ]
     },
     "execution_count": 31,
     "metadata": {},
     "output_type": "execute_result"
    }
   ],
   "source": [
    "np.array(x_train).shape"
   ]
  },
  {
   "cell_type": "code",
   "execution_count": 32,
   "metadata": {},
   "outputs": [
    {
     "data": {
      "text/plain": [
       "(1088, 30)"
      ]
     },
     "execution_count": 32,
     "metadata": {},
     "output_type": "execute_result"
    }
   ],
   "source": [
    "np.array(y_train).shape"
   ]
  },
  {
   "cell_type": "code",
   "execution_count": 33,
   "metadata": {},
   "outputs": [
    {
     "name": "stdout",
     "output_type": "stream",
     "text": [
      "(1088, 30, 1)\n",
      "(1088, 30, 1)\n"
     ]
    }
   ],
   "source": [
    "x_train, y_train = np.array(x_train), np.array(y_train)\n",
    "x_train = np.reshape(x_train, (x_train.shape[0], x_train.shape[1], 1))\n",
    "y_train = np.reshape(y_train, (y_train.shape[0], y_train.shape[1], 1))\n",
    "print(x_train.shape)\n",
    "print(y_train.shape)"
   ]
  },
  {
   "cell_type": "code",
   "execution_count": 34,
   "metadata": {},
   "outputs": [],
   "source": [
    "from keras.layers import Dense\n",
    "from keras.layers import Input, LSTM\n",
    "from keras.models import Model\n",
    "import h5py"
   ]
  },
  {
   "cell_type": "code",
   "execution_count": 37,
   "metadata": {},
   "outputs": [
    {
     "name": "stdout",
     "output_type": "stream",
     "text": [
      "WARNING:tensorflow:From C:\\Users\\SRAVAN\\Anaconda3\\lib\\site-packages\\keras\\backend\\tensorflow_backend.py:74: The name tf.get_default_graph is deprecated. Please use tf.compat.v1.get_default_graph instead.\n",
      "\n",
      "WARNING:tensorflow:From C:\\Users\\SRAVAN\\Anaconda3\\lib\\site-packages\\keras\\backend\\tensorflow_backend.py:517: The name tf.placeholder is deprecated. Please use tf.compat.v1.placeholder instead.\n",
      "\n",
      "WARNING:tensorflow:From C:\\Users\\SRAVAN\\Anaconda3\\lib\\site-packages\\keras\\backend\\tensorflow_backend.py:4138: The name tf.random_uniform is deprecated. Please use tf.random.uniform instead.\n",
      "\n",
      "WARNING:tensorflow:From C:\\Users\\SRAVAN\\Anaconda3\\lib\\site-packages\\keras\\optimizers.py:790: The name tf.train.Optimizer is deprecated. Please use tf.compat.v1.train.Optimizer instead.\n",
      "\n",
      "_________________________________________________________________\n",
      "Layer (type)                 Output Shape              Param #   \n",
      "=================================================================\n",
      "input_1 (InputLayer)         (64, 30, 1)               0         \n",
      "_________________________________________________________________\n",
      "lstm_1 (LSTM)                (64, 30, 10)              480       \n",
      "_________________________________________________________________\n",
      "lstm_2 (LSTM)                (64, 30, 10)              840       \n",
      "_________________________________________________________________\n",
      "dense_1 (Dense)              (64, 30, 1)               11        \n",
      "=================================================================\n",
      "Total params: 1,331\n",
      "Trainable params: 1,331\n",
      "Non-trainable params: 0\n",
      "_________________________________________________________________\n"
     ]
    }
   ],
   "source": [
    "inputs = Input(batch_shape = (batch_size, timesteps, 1))\n",
    "lstm1 = LSTM(10, stateful = True, return_sequences = True)(inputs)\n",
    "lstm2 = LSTM(10, stateful = True, return_sequences = True)(lstm1)\n",
    "outputs = Dense(units = 1)(lstm2)\n",
    "regressor = Model(inputs = inputs, outputs = outputs)\n",
    "regressor.compile(optimizer='adam', loss = 'mae')\n",
    "regressor.summary()"
   ]
  },
  {
   "cell_type": "code",
   "execution_count": 40,
   "metadata": {},
   "outputs": [
    {
     "name": "stdout",
     "output_type": "stream",
     "text": [
      "WARNING:tensorflow:From C:\\Users\\SRAVAN\\Anaconda3\\lib\\site-packages\\tensorflow\\python\\ops\\math_grad.py:1250: add_dispatch_support.<locals>.wrapper (from tensorflow.python.ops.array_ops) is deprecated and will be removed in a future version.\n",
      "Instructions for updating:\n",
      "Use tf.where in 2.0, which has the same broadcast rule as np.where\n",
      "WARNING:tensorflow:From C:\\Users\\SRAVAN\\Anaconda3\\lib\\site-packages\\keras\\backend\\tensorflow_backend.py:986: The name tf.assign_add is deprecated. Please use tf.compat.v1.assign_add instead.\n",
      "\n",
      "WARNING:tensorflow:From C:\\Users\\SRAVAN\\Anaconda3\\lib\\site-packages\\keras\\backend\\tensorflow_backend.py:973: The name tf.assign is deprecated. Please use tf.compat.v1.assign instead.\n",
      "\n",
      "Epoch 1/1\n",
      "1088/1088 [==============================] - 2s 2ms/step - loss: 0.4005\n",
      "Epoch 1/1\n",
      "1088/1088 [==============================] - 1s 479us/step - loss: 0.1341\n",
      "Epoch 1/1\n",
      "1088/1088 [==============================] - 1s 464us/step - loss: 0.1431\n",
      "Epoch 1/1\n",
      "1088/1088 [==============================] - 0s 447us/step - loss: 0.1304\n",
      "Epoch 1/1\n",
      "1088/1088 [==============================] - 0s 438us/step - loss: 0.1122\n",
      "Epoch 1/1\n",
      "1088/1088 [==============================] - 0s 437us/step - loss: 0.1134\n",
      "Epoch 1/1\n",
      "1088/1088 [==============================] - 0s 449us/step - loss: 0.1091\n",
      "Epoch 1/1\n",
      "1088/1088 [==============================] - 1s 471us/step - loss: 0.1057\n",
      "Epoch 1/1\n",
      "1088/1088 [==============================] - 1s 469us/step - loss: 0.1036\n",
      "Epoch 1/1\n",
      "1088/1088 [==============================] - 0s 453us/step - loss: 0.1018\n",
      "Epoch 1/1\n",
      "1088/1088 [==============================] - 0s 451us/step - loss: 0.1007\n",
      "Epoch 1/1\n",
      "1088/1088 [==============================] - 1s 564us/step - loss: 0.0999 0s - loss: 0.\n",
      "Epoch 1/1\n",
      "1088/1088 [==============================] - 1s 1ms/step - loss: 0.0994\n",
      "Epoch 1/1\n",
      "1088/1088 [==============================] - 1s 598us/step - loss: 0.0990\n",
      "Epoch 1/1\n",
      "1088/1088 [==============================] - 1s 473us/step - loss: 0.0986\n",
      "Epoch 1/1\n",
      "1088/1088 [==============================] - 1s 692us/step - loss: 0.0984\n",
      "Epoch 1/1\n",
      "1088/1088 [==============================] - 1s 1ms/step - loss: 0.0981\n",
      "Epoch 1/1\n",
      "1088/1088 [==============================] - 1s 579us/step - loss: 0.0980\n",
      "Epoch 1/1\n",
      "1088/1088 [==============================] - 1s 515us/step - loss: 0.0977\n",
      "Epoch 1/1\n",
      "1088/1088 [==============================] - 1s 649us/step - loss: 0.0976\n",
      "Epoch 1/1\n",
      "1088/1088 [==============================] - 1s 1ms/step - loss: 0.0974\n",
      "Epoch 1/1\n",
      "1088/1088 [==============================] - 1s 477us/step - loss: 0.0973\n",
      "Epoch 1/1\n",
      "1088/1088 [==============================] - 0s 454us/step - loss: 0.0971\n",
      "Epoch 1/1\n",
      "1088/1088 [==============================] - 0s 456us/step - loss: 0.0970\n",
      "Epoch 1/1\n",
      "1088/1088 [==============================] - 1s 1ms/step - loss: 0.0969\n",
      "Epoch 1/1\n",
      "1088/1088 [==============================] - 1s 682us/step - loss: 0.0968\n",
      "Epoch 1/1\n",
      "1088/1088 [==============================] - 0s 445us/step - loss: 0.0967\n",
      "Epoch 1/1\n",
      "1088/1088 [==============================] - 0s 446us/step - loss: 0.0966\n",
      "Epoch 1/1\n",
      "1088/1088 [==============================] - 1s 734us/step - loss: 0.0964\n",
      "Epoch 1/1\n",
      "1088/1088 [==============================] - 1s 887us/step - loss: 0.0963\n",
      "Epoch 1/1\n",
      "1088/1088 [==============================] - 0s 451us/step - loss: 0.0962\n",
      "Epoch 1/1\n",
      "1088/1088 [==============================] - 0s 451us/step - loss: 0.0961 0s - loss: 0.09\n",
      "Epoch 1/1\n",
      "1088/1088 [==============================] - 1s 490us/step - loss: 0.0960\n",
      "Epoch 1/1\n",
      "1088/1088 [==============================] - 1s 989us/step - loss: 0.0959\n",
      "Epoch 1/1\n",
      "1088/1088 [==============================] - 1s 719us/step - loss: 0.0959\n",
      "Epoch 1/1\n",
      "1088/1088 [==============================] - 1s 494us/step - loss: 0.0958\n",
      "Epoch 1/1\n",
      "1088/1088 [==============================] - 1s 465us/step - loss: 0.0957\n",
      "Epoch 1/1\n",
      "1088/1088 [==============================] - 1s 951us/step - loss: 0.0956\n",
      "Epoch 1/1\n",
      "1088/1088 [==============================] - 1s 748us/step - loss: 0.0955\n",
      "Epoch 1/1\n",
      "1088/1088 [==============================] - 1s 535us/step - loss: 0.0954\n",
      "Epoch 1/1\n",
      "1088/1088 [==============================] - 1s 482us/step - loss: 0.0954\n",
      "Epoch 1/1\n",
      "1088/1088 [==============================] - 1s 934us/step - loss: 0.0953\n",
      "Epoch 1/1\n",
      "1088/1088 [==============================] - 1s 803us/step - loss: 0.0952\n",
      "Epoch 1/1\n",
      "1088/1088 [==============================] - 1s 466us/step - loss: 0.0951\n",
      "Epoch 1/1\n",
      "1088/1088 [==============================] - 1s 525us/step - loss: 0.0950\n",
      "Epoch 1/1\n",
      "1088/1088 [==============================] - 1s 787us/step - loss: 0.0950\n",
      "Epoch 1/1\n",
      "1088/1088 [==============================] - 1s 988us/step - loss: 0.0949\n",
      "Epoch 1/1\n",
      "1088/1088 [==============================] - 1s 995us/step - loss: 0.0948\n",
      "Epoch 1/1\n",
      "1088/1088 [==============================] - 1s 616us/step - loss: 0.0947\n",
      "Epoch 1/1\n",
      "1088/1088 [==============================] - 0s 458us/step - loss: 0.0947\n",
      "Epoch 1/1\n",
      "1088/1088 [==============================] - 0s 459us/step - loss: 0.0946\n",
      "Epoch 1/1\n",
      "1088/1088 [==============================] - 1s 884us/step - loss: 0.0945\n",
      "Epoch 1/1\n",
      "1088/1088 [==============================] - 1s 765us/step - loss: 0.0944\n",
      "Epoch 1/1\n",
      "1088/1088 [==============================] - 1s 464us/step - loss: 0.0944\n",
      "Epoch 1/1\n",
      "1088/1088 [==============================] - 1s 491us/step - loss: 0.0943\n",
      "Epoch 1/1\n",
      "1088/1088 [==============================] - 1s 644us/step - loss: 0.0942\n",
      "Epoch 1/1\n",
      "1088/1088 [==============================] - 1s 1ms/step - loss: 0.0942\n",
      "Epoch 1/1\n",
      "1088/1088 [==============================] - 1s 1ms/step - loss: 0.0941\n",
      "Epoch 1/1\n",
      "1088/1088 [==============================] - 1s 638us/step - loss: 0.0940\n",
      "Epoch 1/1\n",
      "1088/1088 [==============================] - 1s 460us/step - loss: 0.0940\n",
      "Epoch 1/1\n",
      "1088/1088 [==============================] - 1s 504us/step - loss: 0.0939\n",
      "Epoch 1/1\n",
      "1088/1088 [==============================] - 1s 761us/step - loss: 0.0938\n",
      "Epoch 1/1\n",
      "1088/1088 [==============================] - 1s 1ms/step - loss: 0.0937\n",
      "Epoch 1/1\n",
      "1088/1088 [==============================] - 1s 1ms/step - loss: 0.0937\n",
      "Epoch 1/1\n",
      "1088/1088 [==============================] - 1s 495us/step - loss: 0.0936\n",
      "Epoch 1/1\n",
      "1088/1088 [==============================] - 1s 490us/step - loss: 0.0935\n",
      "Epoch 1/1\n",
      "1088/1088 [==============================] - 1s 514us/step - loss: 0.0934\n",
      "Epoch 1/1\n",
      "1088/1088 [==============================] - 1s 976us/step - loss: 0.0934 0s - loss: 0.08 - ETA: 0s - loss:\n",
      "Epoch 1/1\n",
      "1088/1088 [==============================] - 1s 978us/step - loss: 0.0933\n",
      "Epoch 1/1\n",
      "1088/1088 [==============================] - 1s 892us/step - loss: 0.0933\n",
      "Epoch 1/1\n",
      "1088/1088 [==============================] - 0s 456us/step - loss: 0.0932\n",
      "Epoch 1/1\n",
      "1088/1088 [==============================] - 1s 462us/step - loss: 0.0932\n",
      "Epoch 1/1\n",
      "1088/1088 [==============================] - 1s 614us/step - loss: 0.0931\n",
      "Epoch 1/1\n",
      "1088/1088 [==============================] - 1s 971us/step - loss: 0.0930\n",
      "Epoch 1/1\n",
      "1088/1088 [==============================] - 1s 984us/step - loss: 0.0930\n",
      "Epoch 1/1\n",
      "1088/1088 [==============================] - 1s 809us/step - loss: 0.0929\n",
      "Epoch 1/1\n",
      "1088/1088 [==============================] - 1s 496us/step - loss: 0.0928\n",
      "Epoch 1/1\n",
      "1088/1088 [==============================] - 1s 463us/step - loss: 0.0928 0s - loss: 0.\n",
      "Epoch 1/1\n",
      "1088/1088 [==============================] - 1s 845us/step - loss: 0.0927\n",
      "Epoch 1/1\n",
      "1088/1088 [==============================] - 1s 1ms/step - loss: 0.0926\n",
      "Epoch 1/1\n",
      "1088/1088 [==============================] - 1s 985us/step - loss: 0.0926\n",
      "Epoch 1/1\n",
      "1088/1088 [==============================] - 1s 1ms/step - loss: 0.0925\n",
      "Epoch 1/1\n",
      "1088/1088 [==============================] - 1s 695us/step - loss: 0.0924\n",
      "Epoch 1/1\n",
      "1088/1088 [==============================] - 1s 490us/step - loss: 0.0924\n",
      "Epoch 1/1\n",
      "1088/1088 [==============================] - 1s 460us/step - loss: 0.0923\n",
      "Epoch 1/1\n",
      "1088/1088 [==============================] - 1s 828us/step - loss: 0.0922\n",
      "Epoch 1/1\n",
      "1088/1088 [==============================] - 1s 986us/step - loss: 0.0922\n",
      "Epoch 1/1\n",
      "1088/1088 [==============================] - 1s 991us/step - loss: 0.0921\n",
      "Epoch 1/1\n"
     ]
    },
    {
     "name": "stdout",
     "output_type": "stream",
     "text": [
      "1088/1088 [==============================] - 1s 510us/step - loss: 0.0920\n",
      "Epoch 1/1\n",
      "1088/1088 [==============================] - 1s 503us/step - loss: 0.0919\n",
      "Epoch 1/1\n",
      "1088/1088 [==============================] - 1s 464us/step - loss: 0.0919\n",
      "Epoch 1/1\n",
      "1088/1088 [==============================] - 1s 924us/step - loss: 0.0918\n",
      "Epoch 1/1\n",
      "1088/1088 [==============================] - 1s 1ms/step - loss: 0.0917\n",
      "Epoch 1/1\n",
      "1088/1088 [==============================] - 1s 974us/step - loss: 0.0916\n",
      "Epoch 1/1\n",
      "1088/1088 [==============================] - 1s 503us/step - loss: 0.0915\n",
      "Epoch 1/1\n",
      "1088/1088 [==============================] - 1s 487us/step - loss: 0.0914\n",
      "Epoch 1/1\n",
      "1088/1088 [==============================] - 1s 761us/step - loss: 0.0914\n",
      "Epoch 1/1\n",
      "1088/1088 [==============================] - 1s 1ms/step - loss: 0.0913\n",
      "Epoch 1/1\n",
      "1088/1088 [==============================] - 1s 1ms/step - loss: 0.0912\n",
      "Epoch 1/1\n",
      "1088/1088 [==============================] - 1s 982us/step - loss: 0.0911\n",
      "Epoch 1/1\n",
      "1088/1088 [==============================] - 1s 838us/step - loss: 0.0910\n",
      "Epoch 1/1\n",
      "1088/1088 [==============================] - 0s 456us/step - loss: 0.0908\n",
      "Epoch 1/1\n",
      "1088/1088 [==============================] - 1s 465us/step - loss: 0.0907\n",
      "Epoch 1/1\n",
      "1088/1088 [==============================] - 1s 702us/step - loss: 0.0906\n",
      "Epoch 1/1\n",
      "1088/1088 [==============================] - 1s 978us/step - loss: 0.0904\n",
      "Epoch 1/1\n",
      "1088/1088 [==============================] - 1s 979us/step - loss: 0.0902\n",
      "Epoch 1/1\n",
      "1088/1088 [==============================] - 1s 752us/step - loss: 0.0900\n",
      "Epoch 1/1\n",
      "1088/1088 [==============================] - 1s 461us/step - loss: 0.0899\n",
      "Epoch 1/1\n",
      "1088/1088 [==============================] - 1s 468us/step - loss: 0.0898\n",
      "Epoch 1/1\n",
      "1088/1088 [==============================] - 1s 760us/step - loss: 0.0896\n",
      "Epoch 1/1\n",
      "1088/1088 [==============================] - 1s 1ms/step - loss: 0.0895\n",
      "Epoch 1/1\n",
      "1088/1088 [==============================] - 1s 1ms/step - loss: 0.0904\n",
      "Epoch 1/1\n",
      "1088/1088 [==============================] - 1s 510us/step - loss: 0.0912\n",
      "Epoch 1/1\n",
      "1088/1088 [==============================] - 1s 482us/step - loss: 0.0902\n",
      "Epoch 1/1\n",
      "1088/1088 [==============================] - 1s 517us/step - loss: 0.0889\n",
      "Epoch 1/1\n",
      "1088/1088 [==============================] - 1s 1ms/step - loss: 0.0888\n",
      "Epoch 1/1\n",
      "1088/1088 [==============================] - 1s 1ms/step - loss: 0.0893\n",
      "Epoch 1/1\n",
      "1088/1088 [==============================] - 1s 792us/step - loss: 0.0894\n",
      "Epoch 1/1\n",
      "1088/1088 [==============================] - 1s 623us/step - loss: 0.0889\n",
      "Epoch 1/1\n",
      "1088/1088 [==============================] - 1s 989us/step - loss: 0.0883\n"
     ]
    }
   ],
   "source": [
    "for i in range(epochs):\n",
    "    regressor.fit(x_train, y_train, shuffle=False, epochs = 1, batch_size = batch_size)\n",
    "    regressor.reset_states()"
   ]
  },
  {
   "cell_type": "code",
   "execution_count": 44,
   "metadata": {},
   "outputs": [],
   "source": [
    "import h5py\n",
    "regressor.save(filepath = \"my_model_with_mae_30.h5\")"
   ]
  },
  {
   "cell_type": "code",
   "execution_count": 45,
   "metadata": {},
   "outputs": [
    {
     "data": {
      "text/plain": [
       "<keras.engine.training.Model at 0x27748feed68>"
      ]
     },
     "execution_count": 45,
     "metadata": {},
     "output_type": "execute_result"
    }
   ],
   "source": [
    "regressor1 = load_model(filepath = \"my_model_with_mae_30.h5\")\n",
    "regressor1"
   ]
  },
  {
   "cell_type": "code",
   "execution_count": 46,
   "metadata": {},
   "outputs": [
    {
     "name": "stdout",
     "output_type": "stream",
     "text": [
      "_________________________________________________________________\n",
      "Layer (type)                 Output Shape              Param #   \n",
      "=================================================================\n",
      "input_1 (InputLayer)         (64, 30, 1)               0         \n",
      "_________________________________________________________________\n",
      "lstm_1 (LSTM)                (64, 30, 10)              480       \n",
      "_________________________________________________________________\n",
      "lstm_2 (LSTM)                (64, 30, 10)              840       \n",
      "_________________________________________________________________\n",
      "dense_1 (Dense)              (64, 30, 1)               11        \n",
      "=================================================================\n",
      "Total params: 1,331\n",
      "Trainable params: 1,331\n",
      "Non-trainable params: 0\n",
      "_________________________________________________________________\n"
     ]
    }
   ],
   "source": [
    "regressor1.summary()"
   ]
  }
 ],
 "metadata": {
  "kernelspec": {
   "display_name": "Python 3",
   "language": "python",
   "name": "python3"
  },
  "language_info": {
   "codemirror_mode": {
    "name": "ipython",
    "version": 3
   },
   "file_extension": ".py",
   "mimetype": "text/x-python",
   "name": "python",
   "nbconvert_exporter": "python",
   "pygments_lexer": "ipython3",
   "version": "3.7.3"
  }
 },
 "nbformat": 4,
 "nbformat_minor": 4
}
