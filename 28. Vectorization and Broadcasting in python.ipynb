{
 "cells": [
  {
   "cell_type": "code",
   "execution_count": 1,
   "metadata": {},
   "outputs": [
    {
     "name": "stdout",
     "output_type": "stream",
     "text": [
      "Result:  83.44374080033242\n",
      "For Vectorization approach: 91.48645401000977ms\n"
     ]
    }
   ],
   "source": [
    "#Vectorization approach\n",
    "import numpy as np\n",
    "import time\n",
    "tic = time.time()\n",
    "a = np.random.randn(1000000)\n",
    "b = np.random.randn(1000000)\n",
    "\n",
    "c = np.dot(a, b)\n",
    "toc = time.time()\n",
    "print(\"Result: \", c)\n",
    "print(\"For Vectorization approach: \" + str((toc - tic) * 1000) + \"ms\")"
   ]
  },
  {
   "cell_type": "code",
   "execution_count": 2,
   "metadata": {},
   "outputs": [
    {
     "name": "stdout",
     "output_type": "stream",
     "text": [
      "Result:  83.44374080037562\n",
      "For Non-Vectorization approach: 549.5309829711914ms\n"
     ]
    }
   ],
   "source": [
    "#Non-Vectorization approach\n",
    "tic = time.time()\n",
    "c = 0\n",
    "for i in range(1000000):\n",
    "    c += a[i] * b[i]\n",
    "toc = time.time()\n",
    "print(\"Result: \", c)\n",
    "print(\"For Non-Vectorization approach: \" + str((toc - tic) * 1000) + \"ms\")"
   ]
  },
  {
   "cell_type": "code",
   "execution_count": 3,
   "metadata": {},
   "outputs": [
    {
     "data": {
      "text/plain": [
       "9.971935786706721"
      ]
     },
     "execution_count": 3,
     "metadata": {},
     "output_type": "execute_result"
    }
   ],
   "source": [
    "1266.2537097930908 / 126.98173522949219"
   ]
  },
  {
   "cell_type": "code",
   "execution_count": 4,
   "metadata": {},
   "outputs": [
    {
     "name": "stdout",
     "output_type": "stream",
     "text": [
      "Vectorized approach is 10x(minimum) faster than the non vectorized approach\n"
     ]
    }
   ],
   "source": [
    "print(\"Vectorized approach is 10x(minimum) faster than the non vectorized approach\")"
   ]
  },
  {
   "cell_type": "code",
   "execution_count": 21,
   "metadata": {},
   "outputs": [
    {
     "name": "stdout",
     "output_type": "stream",
     "text": [
      "[[0.5158011 ]\n",
      " [1.60854987]\n",
      " [1.60032529]\n",
      " ...\n",
      " [0.8905168 ]\n",
      " [2.32919271]\n",
      " [0.24152215]]\n",
      "For Non-Vectorization approach: 551.5305995941162ms\n"
     ]
    }
   ],
   "source": [
    "# Non - vectorized approach\n",
    "import math\n",
    "\n",
    "tic = time.time()\n",
    "u = np.zeros((1000000, 1))\n",
    "v = np.random.randn(1000000)\n",
    "for i in range(1000000):\n",
    "    u[i] = math.exp(v[i])\n",
    "\n",
    "toc = time.time()\n",
    "print(u)\n",
    "print(\"For Non-Vectorization approach: \" + str((toc - tic) * 1000) + \"ms\")"
   ]
  },
  {
   "cell_type": "code",
   "execution_count": 22,
   "metadata": {},
   "outputs": [
    {
     "name": "stdout",
     "output_type": "stream",
     "text": [
      "[0.5158011  1.60854987 1.60032529 ... 0.8905168  2.32919271 0.24152215]\n",
      "For Vectorization approach: 8.97526741027832ms\n"
     ]
    }
   ],
   "source": [
    "# Vectorized approach\n",
    "tic = time.time()\n",
    "u = np.exp(v)\n",
    "toc = time.time()\n",
    "print(u)\n",
    "print(\"For Vectorization approach: \" + str((toc - tic) * 1000) + \"ms\")"
   ]
  },
  {
   "cell_type": "code",
   "execution_count": 23,
   "metadata": {},
   "outputs": [
    {
     "data": {
      "text/plain": [
       "61.45004648691725"
      ]
     },
     "execution_count": 23,
     "metadata": {},
     "output_type": "execute_result"
    }
   ],
   "source": [
    "551.5305995941162/8.97526741027832"
   ]
  },
  {
   "cell_type": "code",
   "execution_count": 24,
   "metadata": {},
   "outputs": [
    {
     "name": "stdout",
     "output_type": "stream",
     "text": [
      "Vectorized approach is 60x(minimum) faster than the non vectorized approach\n"
     ]
    }
   ],
   "source": [
    "print(\"Vectorized approach is 60x(minimum) faster than the non vectorized approach\")"
   ]
  },
  {
   "cell_type": "code",
   "execution_count": 32,
   "metadata": {},
   "outputs": [
    {
     "data": {
      "text/plain": [
       "array([ 2.71828183,  7.3890561 , 20.08553692, 54.59815003])"
      ]
     },
     "execution_count": 32,
     "metadata": {},
     "output_type": "execute_result"
    }
   ],
   "source": [
    "np.exp([1,2,3,4])"
   ]
  },
  {
   "cell_type": "markdown",
   "metadata": {},
   "source": [
    "## Broadcasting"
   ]
  },
  {
   "cell_type": "code",
   "execution_count": 1,
   "metadata": {},
   "outputs": [
    {
     "name": "stdout",
     "output_type": "stream",
     "text": [
      "[[ 56.    0.    4.4  68. ]\n",
      " [  1.2 104.   52.    8. ]\n",
      " [  1.8 135.   99.    0.9]]\n"
     ]
    }
   ],
   "source": [
    "import numpy as np\n",
    "A = np.array([[56.0, 0.0, 4.4, 68.0],\n",
    "             [1.2, 104.0, 52.0, 8.0],\n",
    "             [1.8, 135.0, 99.0, 0.9]])\n",
    "print(A)"
   ]
  },
  {
   "cell_type": "code",
   "execution_count": 6,
   "metadata": {},
   "outputs": [
    {
     "data": {
      "text/plain": [
       "array([ 59. , 239. , 155.4,  76.9])"
      ]
     },
     "execution_count": 6,
     "metadata": {},
     "output_type": "execute_result"
    }
   ],
   "source": [
    "cal = np.sum(A, axis = 0)\n",
    "cal"
   ]
  },
  {
   "cell_type": "code",
   "execution_count": 8,
   "metadata": {},
   "outputs": [
    {
     "data": {
      "text/plain": [
       "array([[94.91525424,  0.        ,  2.83140283, 88.42652796],\n",
       "       [ 2.03389831, 43.51464435, 33.46203346, 10.40312094],\n",
       "       [ 3.05084746, 56.48535565, 63.70656371,  1.17035111]])"
      ]
     },
     "execution_count": 8,
     "metadata": {},
     "output_type": "execute_result"
    }
   ],
   "source": [
    "percentage = (A/cal)*100\n",
    "percentage"
   ]
  },
  {
   "cell_type": "code",
   "execution_count": 10,
   "metadata": {},
   "outputs": [
    {
     "data": {
      "text/plain": [
       "array([-0.0134173 ,  0.38688972,  0.70197268, -0.26105185,  1.13263685,\n",
       "       -0.30275711])"
      ]
     },
     "execution_count": 10,
     "metadata": {},
     "output_type": "execute_result"
    }
   ],
   "source": [
    "sample = np.random.randn(6)\n",
    "sample"
   ]
  },
  {
   "cell_type": "code",
   "execution_count": 11,
   "metadata": {},
   "outputs": [
    {
     "data": {
      "text/plain": [
       "array([[-0.0134173 ,  0.38688972],\n",
       "       [ 0.70197268, -0.26105185],\n",
       "       [ 1.13263685, -0.30275711]])"
      ]
     },
     "execution_count": 11,
     "metadata": {},
     "output_type": "execute_result"
    }
   ],
   "source": [
    "sample.reshape(3,2)"
   ]
  },
  {
   "cell_type": "markdown",
   "metadata": {},
   "source": [
    "### Note on python - Numpy vectors"
   ]
  },
  {
   "cell_type": "code",
   "execution_count": 13,
   "metadata": {},
   "outputs": [
    {
     "data": {
      "text/plain": [
       "(5,)"
      ]
     },
     "execution_count": 13,
     "metadata": {},
     "output_type": "execute_result"
    }
   ],
   "source": [
    "# Do not use these sort of arrays\n",
    "a = np.random.randn(5)\n",
    "a.shape"
   ]
  },
  {
   "cell_type": "code",
   "execution_count": 16,
   "metadata": {},
   "outputs": [
    {
     "name": "stdout",
     "output_type": "stream",
     "text": [
      "[-0.13839715 -0.4000149   1.02879154 -0.06493428  1.06131535]\n",
      "[-0.13839715 -0.4000149   1.02879154 -0.06493428  1.06131535]\n"
     ]
    }
   ],
   "source": [
    "print(a.T)\n",
    "print(a)"
   ]
  },
  {
   "cell_type": "code",
   "execution_count": 17,
   "metadata": {},
   "outputs": [
    {
     "data": {
      "text/plain": [
       "2.3681844434366512"
      ]
     },
     "execution_count": 17,
     "metadata": {},
     "output_type": "execute_result"
    }
   ],
   "source": [
    "np.dot(a, a.T)"
   ]
  },
  {
   "cell_type": "code",
   "execution_count": 19,
   "metadata": {},
   "outputs": [
    {
     "data": {
      "text/plain": [
       "(5, 1)"
      ]
     },
     "execution_count": 19,
     "metadata": {},
     "output_type": "execute_result"
    }
   ],
   "source": [
    "# Use these sort of arrays\n",
    "a = np.random.randn(5, 1)\n",
    "a.shape"
   ]
  },
  {
   "cell_type": "code",
   "execution_count": 20,
   "metadata": {},
   "outputs": [
    {
     "name": "stdout",
     "output_type": "stream",
     "text": [
      "[[-0.15914798]\n",
      " [-0.89377569]\n",
      " [ 1.30448557]\n",
      " [-0.13001054]\n",
      " [-0.55831956]]\n",
      "[[-0.15914798 -0.89377569  1.30448557 -0.13001054 -0.55831956]]\n"
     ]
    }
   ],
   "source": [
    "print(a)\n",
    "print(a.T)"
   ]
  },
  {
   "cell_type": "code",
   "execution_count": 21,
   "metadata": {},
   "outputs": [
    {
     "data": {
      "text/plain": [
       "array([[ 0.02532808,  0.14224259, -0.20760624,  0.02069091,  0.08885543],\n",
       "       [ 0.14224259,  0.79883498, -1.16591748,  0.11620026,  0.49901245],\n",
       "       [-0.20760624, -1.16591748,  1.70168259, -0.16959687, -0.7283198 ],\n",
       "       [ 0.02069091,  0.11620026, -0.16959687,  0.01690274,  0.07258743],\n",
       "       [ 0.08885543,  0.49901245, -0.7283198 ,  0.07258743,  0.31172073]])"
      ]
     },
     "execution_count": 21,
     "metadata": {},
     "output_type": "execute_result"
    }
   ],
   "source": [
    "np.dot(a, a.T)"
   ]
  }
 ],
 "metadata": {
  "kernelspec": {
   "display_name": "Python 3",
   "language": "python",
   "name": "python3"
  },
  "language_info": {
   "codemirror_mode": {
    "name": "ipython",
    "version": 3
   },
   "file_extension": ".py",
   "mimetype": "text/x-python",
   "name": "python",
   "nbconvert_exporter": "python",
   "pygments_lexer": "ipython3",
   "version": "3.7.3"
  }
 },
 "nbformat": 4,
 "nbformat_minor": 4
}
