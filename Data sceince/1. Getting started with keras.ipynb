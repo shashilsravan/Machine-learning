{
 "cells": [
  {
   "cell_type": "markdown",
   "metadata": {},
   "source": [
    "### Getting started with Keras Sequential Model\n",
    "\n",
    "The sequential model is a linear stack of layers"
   ]
  },
  {
   "cell_type": "code",
   "execution_count": 4,
   "metadata": {},
   "outputs": [],
   "source": [
    "# Getting started with Keras Sequential Model\n",
    "\n",
    "from keras.models import Sequential\n",
    "from keras.layers import Dense, Activation\n",
    "\n",
    "# model = Sequential()\n",
    "# model.add(Dense(32, input_dim = 784))\n",
    "# model.add(Activation('relu'))\n",
    "\n",
    "model = Sequential([\n",
    "    Dense(32, input_shape=(784,)),\n",
    "    Activation('relu'),\n",
    "    Dense(10),\n",
    "    Activation('softmax'),\n",
    "])"
   ]
  },
  {
   "cell_type": "markdown",
   "metadata": {},
   "source": [
    "### Compilation\n",
    "Before training a model, you need to configure the learning process which is done via the COMPILE method"
   ]
  },
  {
   "cell_type": "code",
   "execution_count": 6,
   "metadata": {},
   "outputs": [
    {
     "name": "stdout",
     "output_type": "stream",
     "text": [
      "WARNING:tensorflow:From C:\\Users\\SRAVAN\\Anaconda3\\lib\\site-packages\\tensorflow\\python\\ops\\nn_impl.py:180: add_dispatch_support.<locals>.wrapper (from tensorflow.python.ops.array_ops) is deprecated and will be removed in a future version.\n",
      "Instructions for updating:\n",
      "Use tf.where in 2.0, which has the same broadcast rule as np.where\n"
     ]
    }
   ],
   "source": [
    "# for multi class classification\n",
    "# model.compile(\n",
    "#     optimizer = 'rmsprop',\n",
    "#     loss = 'categorical_crossentropy',\n",
    "#     metrics = ['accuracy']\n",
    "# )\n",
    "\n",
    "\n",
    "# for binary class classification\n",
    "model.compile(\n",
    "    optimizer = 'rmsprop',\n",
    "    loss = 'binary_crossentropy',\n",
    "    metrics = ['accuracy']\n",
    ")"
   ]
  },
  {
   "cell_type": "markdown",
   "metadata": {},
   "source": [
    "### Training\n",
    "Keras models are trained on Numpy Arrays of inputs data and labels. For training a model, you will typically use \"fit\" function"
   ]
  },
  {
   "cell_type": "code",
   "execution_count": 8,
   "metadata": {},
   "outputs": [
    {
     "name": "stdout",
     "output_type": "stream",
     "text": [
      "WARNING:tensorflow:From C:\\Users\\SRAVAN\\Anaconda3\\lib\\site-packages\\keras\\backend\\tensorflow_backend.py:986: The name tf.assign_add is deprecated. Please use tf.compat.v1.assign_add instead.\n",
      "\n",
      "Epoch 1/10\n",
      "1000/1000 [==============================] - 1s 732us/step - loss: 0.7066 - acc: 0.4890\n",
      "Epoch 2/10\n",
      "1000/1000 [==============================] - 0s 96us/step - loss: 0.6950 - acc: 0.5150\n",
      "Epoch 3/10\n",
      "1000/1000 [==============================] - 0s 115us/step - loss: 0.6910 - acc: 0.5380\n",
      "Epoch 4/10\n",
      "1000/1000 [==============================] - 0s 76us/step - loss: 0.6865 - acc: 0.5450\n",
      "Epoch 5/10\n",
      "1000/1000 [==============================] - 0s 119us/step - loss: 0.6828 - acc: 0.5700\n",
      "Epoch 6/10\n",
      "1000/1000 [==============================] - 0s 114us/step - loss: 0.6790 - acc: 0.5610\n",
      "Epoch 7/10\n",
      "1000/1000 [==============================] - 0s 110us/step - loss: 0.6760 - acc: 0.5710\n",
      "Epoch 8/10\n",
      "1000/1000 [==============================] - 0s 96us/step - loss: 0.6735 - acc: 0.5930\n",
      "Epoch 9/10\n",
      "1000/1000 [==============================] - 0s 45us/step - loss: 0.6696 - acc: 0.5930\n",
      "Epoch 10/10\n",
      "1000/1000 [==============================] - 0s 97us/step - loss: 0.6675 - acc: 0.6090\n"
     ]
    },
    {
     "data": {
      "text/plain": [
       "<keras.callbacks.History at 0x227be140780>"
      ]
     },
     "execution_count": 8,
     "metadata": {},
     "output_type": "execute_result"
    }
   ],
   "source": [
    "# for binary classification\n",
    "\n",
    "model = Sequential()\n",
    "model.add(Dense(32, activation='relu', input_dim = 100))\n",
    "model.add(Dense(1, activation='sigmoid'))\n",
    "model.compile(optimizer='rmsprop',\n",
    "             loss='binary_crossentropy',\n",
    "             metrics=['accuracy'])\n",
    "\n",
    "import numpy as np\n",
    "data = np.random.random((1000, 100))\n",
    "labels = np.random.randint(2, size=(1000, 1))\n",
    "\n",
    "model.fit(data, labels, epochs=10, batch_size=32)"
   ]
  },
  {
   "cell_type": "code",
   "execution_count": 16,
   "metadata": {},
   "outputs": [
    {
     "name": "stdout",
     "output_type": "stream",
     "text": [
      "Epoch 1/10\n",
      "1000/1000 [==============================] - 1s 583us/step - loss: 2.3505 - acc: 0.0930\n",
      "Epoch 2/10\n",
      "1000/1000 [==============================] - 0s 126us/step - loss: 2.3128 - acc: 0.0940\n",
      "Epoch 3/10\n",
      "1000/1000 [==============================] - 0s 119us/step - loss: 2.3007 - acc: 0.1010\n",
      "Epoch 4/10\n",
      "1000/1000 [==============================] - 0s 76us/step - loss: 2.2935 - acc: 0.1090\n",
      "Epoch 5/10\n",
      "1000/1000 [==============================] - 0s 158us/step - loss: 2.2847 - acc: 0.1280\n",
      "Epoch 6/10\n",
      "1000/1000 [==============================] - 0s 234us/step - loss: 2.2780 - acc: 0.1430\n",
      "Epoch 7/10\n",
      "1000/1000 [==============================] - 0s 149us/step - loss: 2.2699 - acc: 0.1550\n",
      "Epoch 8/10\n",
      "1000/1000 [==============================] - 0s 165us/step - loss: 2.2610 - acc: 0.1570\n",
      "Epoch 9/10\n",
      "1000/1000 [==============================] - 0s 222us/step - loss: 2.2543 - acc: 0.1590\n",
      "Epoch 10/10\n",
      "1000/1000 [==============================] - 0s 191us/step - loss: 2.2456 - acc: 0.1740\n"
     ]
    },
    {
     "data": {
      "text/plain": [
       "<keras.callbacks.History at 0x227c17f65c0>"
      ]
     },
     "execution_count": 16,
     "metadata": {},
     "output_type": "execute_result"
    }
   ],
   "source": [
    "# for multi class classification\n",
    "import keras\n",
    "model = Sequential()\n",
    "model.add(Dense(32, activation='relu', input_dim=100))\n",
    "model.add(Dense(10, activation='softmax'))\n",
    "model.compile(optimizer = 'rmsprop',\n",
    "             loss='categorical_crossentropy',\n",
    "             metrics=['accuracy'])\n",
    "\n",
    "import numpy as np\n",
    "data = np.random.random((1000, 100))\n",
    "labels = np.random.randint(10, size=(1000, 1))\n",
    "\n",
    "one_hot_labels = keras.utils.to_categorical(labels, num_classes=10)\n",
    "model.fit(data, one_hot_labels, epochs=10, batch_size=32)"
   ]
  }
 ],
 "metadata": {
  "anaconda-cloud": {},
  "kernelspec": {
   "display_name": "Python 3",
   "language": "python",
   "name": "python3"
  },
  "language_info": {
   "codemirror_mode": {
    "name": "ipython",
    "version": 3
   },
   "file_extension": ".py",
   "mimetype": "text/x-python",
   "name": "python",
   "nbconvert_exporter": "python",
   "pygments_lexer": "ipython3",
   "version": "3.7.3"
  }
 },
 "nbformat": 4,
 "nbformat_minor": 2
}
