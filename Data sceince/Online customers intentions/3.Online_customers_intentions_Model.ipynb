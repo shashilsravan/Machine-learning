{
 "cells": [
  {
   "cell_type": "markdown",
   "metadata": {},
   "source": [
    "## Model selection\n",
    "\n",
    "#### The hyper parameter for each model is optimized using bayesian optimization and 5 fold stratified Cross Validation. Each model is trained on there different transformations of the original dataset. Since the data set is imbalanced be use balanced accuracy as the metric."
   ]
  },
  {
   "cell_type": "code",
   "execution_count": 3,
   "metadata": {},
   "outputs": [],
   "source": [
    "# imports\n",
    "import lightgbm as lgb #light gradient boosted tree\n",
    "from sklearn.model_selection import train_test_split, StratifiedKFold # train and test split\n",
    "from sklearn.metrics import balanced_accuracy_score,precision_score# metrics\n",
    "from hyperopt import fmin, tpe, hp, Trials, STATUS_OK\n",
    "import numpy as np\n",
    "import pandas as pd # reading data\n",
    "import warnings\n",
    "warnings.simplefilter(\"ignore\")"
   ]
  },
  {
   "cell_type": "code",
   "execution_count": 4,
   "metadata": {},
   "outputs": [],
   "source": [
    "# reading the data\n",
    "df_encoded = pd.read_csv('online_shoppers_intention_encoded.csv', index_col=False)\n",
    "df_scaled = pd.read_csv('online_shoppers_intention_encoded_scaled.csv', index_col=False)\n",
    "df_transformed = pd.read_csv('online_shoppers_intention_encoded_scaled_transformed.csv', index_col=False)"
   ]
  },
  {
   "cell_type": "code",
   "execution_count": 5,
   "metadata": {},
   "outputs": [],
   "source": [
    "#seperate label\n",
    "label = df_encoded.pop('Revenue').astype('int')\n",
    "_,_ = df_scaled.pop('Revenue'),df_transformed.pop('Revenue')"
   ]
  },
  {
   "cell_type": "code",
   "execution_count": 7,
   "metadata": {},
   "outputs": [],
   "source": [
    "#split object for CV \n",
    "skf = StratifiedKFold(n_splits=5, random_state=None, shuffle=True)\n",
    "#Hyperparameter search space for gradient boosed trees\n",
    "lgb_space = {'lr':hp.loguniform('lr',-6.9,-2.3),'num_leaves':hp.quniform('num_leaves',15,255,1),\n",
    "         'max_depth':hp.choice('max_depth',[-1,9,12]),'colsample_bytree': hp.uniform('colsample_bytree', 0.3, 1.0)}"
   ]
  },
  {
   "cell_type": "code",
   "execution_count": 8,
   "metadata": {},
   "outputs": [],
   "source": [
    "def lgb_optimizer(params):\n",
    "    '''A function to optimize  lgb classifier\n",
    "    :params:=params , dictionary containing the Hyper-parameters for the classifier\n",
    "    returns true loss and validation loss\n",
    "    '''\n",
    "    if 'num_leaves' in params:\n",
    "        params['num_leaves']=int(params['num_leaves'])\n",
    "    if 'max_depth' in params:\n",
    "        params['max_depth']=int(params['max_depth'])\n",
    "    val_score=[]\n",
    "    true_scores=[]\n",
    "    rd=1\n",
    "    for train_index, test_index in skf.split(X_train, y_train):\n",
    "        X_tr, X_val = X_train.iloc[train_index], X_train.iloc[test_index]\n",
    "        y_tr, y_val = y_train.iloc[train_index], y_train.iloc[test_index]\n",
    "        clf = lgb.LGBMClassifier(n_estimators=2000,**params)\n",
    "        clf.fit(X_tr,y_tr,eval_set=(X_val,y_val),early_stopping_rounds =200,eval_metric='logloss',verbose=False)\n",
    "        y_pred = clf.predict(X_val)\n",
    "        y_tr_pred=clf.predict(X_tr)\n",
    "        score=balanced_accuracy_score(y_val,y_pred,)\n",
    "        true_score=balanced_accuracy_score(y_tr,y_tr_pred)\n",
    "        val_score.append(score)\n",
    "        true_scores.append(true_score)\n",
    "        rd+=1\n",
    "    mean,std =np.mean(val_score),np.std(val_score)\n",
    "    true_mean=np.mean(true_scores)\n",
    "    print(\"mean: {}, Std: {}\".format(mean,std))\n",
    "    return {'loss':-mean,'status': STATUS_OK,'true_loss':-true_mean}"
   ]
  },
  {
   "cell_type": "code",
   "execution_count": 9,
   "metadata": {},
   "outputs": [
    {
     "name": "stdout",
     "output_type": "stream",
     "text": [
      "mean: 0.7617145711775637, Std: 0.011096103324751685                                                                    \n",
      "mean: 0.7823353511546445, Std: 0.01605713721017053                                                                     \n",
      "mean: 0.7528195095494519, Std: 0.025083682968686218                                                                    \n",
      "mean: 0.7774682674271404, Std: 0.012387011946309076                                                                    \n",
      "mean: 0.7506421682997939, Std: 0.014579309421961291                                                                    \n",
      "mean: 0.78187725489657, Std: 0.011160865152920621                                                                      \n",
      "mean: 0.7741578761889171, Std: 0.009488687260092898                                                                    \n",
      "mean: 0.7636328281698519, Std: 0.014629157731417484                                                                    \n",
      "mean: 0.7708845380484701, Std: 0.019325613645904852                                                                    \n",
      "mean: 0.7766294490273093, Std: 0.014112795488428321                                                                    \n",
      "mean: 0.77475924859067, Std: 0.008356476063113872                                                                      \n",
      "mean: 0.7637659818820974, Std: 0.014689723107654524                                                                    \n",
      "mean: 0.7530375729658599, Std: 0.02198843895836754                                                                     \n",
      "mean: 0.7707753220120395, Std: 0.01584251585561438                                                                     \n",
      "mean: 0.7605032785430698, Std: 0.008044174395754528                                                                    \n",
      "mean: 0.7725042957849445, Std: 0.006734857630816613                                                                    \n",
      "mean: 0.7730368668950254, Std: 0.010890882114895745                                                                    \n",
      "mean: 0.7773558209604313, Std: 0.02046833285409353                                                                     \n",
      "mean: 0.7728237647197024, Std: 0.009733362042102124                                                                    \n",
      "mean: 0.7789032970383765, Std: 0.008982383282670455                                                                    \n",
      "100%|███████████████████████████████████████████████| 20/20 [02:11<00:00,  6.58s/trial, best loss: -0.7823353511546445]\n"
     ]
    }
   ],
   "source": [
    "#split into train and test and call the fmin(optimizer) function for encoded dataset\n",
    "X_train,X_test,y_train,y_test = train_test_split(df_encoded,label,test_size=0.2,random_state=42)\n",
    "trials_encoded = Trials()\n",
    "best_e= fmin(lgb_optimizer,lgb_space, algo=tpe.suggest, max_evals=20, trials=trials_encoded)"
   ]
  },
  {
   "cell_type": "code",
   "execution_count": 10,
   "metadata": {},
   "outputs": [
    {
     "name": "stdout",
     "output_type": "stream",
     "text": [
      "mean: 0.7613342051954316, Std: 0.014068365983731792                                                                    \n",
      "mean: 0.7699905211552569, Std: 0.02141441009582809                                                                     \n",
      "mean: 0.7498763813682278, Std: 0.016509879357649613                                                                    \n",
      "mean: 0.7778987644385236, Std: 0.014297575850252089                                                                    \n",
      "mean: 0.7651975311264765, Std: 0.005114829904231287                                                                    \n",
      "mean: 0.7644419978430474, Std: 0.011590741396906787                                                                    \n",
      "mean: 0.7762850864093237, Std: 0.013418337595139263                                                                    \n",
      "mean: 0.7820605646317247, Std: 0.019749303100836633                                                                    \n",
      "mean: 0.7684662079497329, Std: 0.010232671151747526                                                                    \n",
      "mean: 0.7423453673630316, Std: 0.004682665801312465                                                                    \n",
      "mean: 0.77780703771418, Std: 0.010662693173299572                                                                      \n",
      "mean: 0.7628086123146252, Std: 0.007732687713931075                                                                    \n",
      "mean: 0.777961342309389, Std: 0.017417093139802144                                                                     \n",
      "mean: 0.7749388155255603, Std: 0.014188000511719704                                                                    \n",
      "mean: 0.7658774086075658, Std: 0.008227344085967994                                                                    \n",
      "mean: 0.7604823088641257, Std: 0.019099254659499926                                                                    \n",
      "mean: 0.7716540677803007, Std: 0.018069014809761717                                                                    \n",
      "mean: 0.7723906683679017, Std: 0.009206379429406867                                                                    \n",
      "mean: 0.7689553963181843, Std: 0.01108144197118837                                                                     \n",
      "mean: 0.7638603079468584, Std: 0.009225094673026204                                                                    \n",
      "100%|███████████████████████████████████████████████| 20/20 [01:59<00:00,  5.96s/trial, best loss: -0.7820605646317247]\n"
     ]
    }
   ],
   "source": [
    "\n",
    "#for scaled dataset\n",
    "X_train,X_test,y_train,y_test = train_test_split(df_scaled,label,test_size=0.2,random_state=42)\n",
    "trials_scaled = Trials()\n",
    "best_scaled = fmin(lgb_optimizer, lgb_space, algo=tpe.suggest, max_evals=20, trials=trials_scaled)"
   ]
  },
  {
   "cell_type": "code",
   "execution_count": 11,
   "metadata": {},
   "outputs": [
    {
     "name": "stdout",
     "output_type": "stream",
     "text": [
      "mean: 0.7441790395687095, Std: 0.014219068306850545                                                                    \n",
      "mean: 0.7551621588521912, Std: 0.0230829318761551                                                                      \n",
      "mean: 0.7658622562024886, Std: 0.007210758400881086                                                                    \n",
      "mean: 0.7768100282053428, Std: 0.005204424267552645                                                                    \n",
      "mean: 0.7786523669618834, Std: 0.008222377033777829                                                                    \n",
      "mean: 0.7684575289020411, Std: 0.005128302535505574                                                                    \n",
      "mean: 0.772055272224673, Std: 0.011409949185906248                                                                     \n",
      "mean: 0.7661092997651846, Std: 0.009561951057972912                                                                    \n",
      "mean: 0.7763480329366423, Std: 0.016163540602591033                                                                    \n",
      "mean: 0.7832243255773848, Std: 0.01607452727044306                                                                     \n",
      "mean: 0.7657613380604671, Std: 0.003948082145342434                                                                    \n",
      "mean: 0.7753779915846354, Std: 0.015040257948818605                                                                    \n",
      "mean: 0.7743372994102746, Std: 0.006279986858742863                                                                    \n",
      "mean: 0.754805005729796, Std: 0.013443530169695468                                                                     \n",
      "mean: 0.7745511888858202, Std: 0.008004037059512062                                                                    \n",
      "mean: 0.768707421741733, Std: 0.018170670151242956                                                                     \n",
      "mean: 0.7789228608240659, Std: 0.011904885299050125                                                                    \n",
      "mean: 0.7644290386314472, Std: 0.00520857478307522                                                                     \n",
      "mean: 0.7597752007927988, Std: 0.0016965822308445363                                                                   \n",
      "mean: 0.772450909331757, Std: 0.013369832377913043                                                                     \n",
      "100%|███████████████████████████████████████████████| 20/20 [02:01<00:00,  6.09s/trial, best loss: -0.7832243255773848]\n"
     ]
    }
   ],
   "source": [
    "\n",
    "#for transformed dataset\n",
    "X_train,X_test,y_train,y_test = train_test_split(df_transformed,label,test_size=0.2,random_state=42)\n",
    "trials_transformed = Trials()\n",
    "best_transformed = fmin(lgb_optimizer, lgb_space, algo=tpe.suggest, max_evals=20, trials=trials_transformed)"
   ]
  },
  {
   "cell_type": "code",
   "execution_count": 12,
   "metadata": {},
   "outputs": [],
   "source": [
    "def model_trainer(Data,label,params,classifier='lgb',test_size=0.2):\n",
    "    '''A function to train a model. \n",
    "    parameters:\n",
    "    Data :=pandas dataset or numpy array of features\n",
    "    label:=pandas dataset or numpy array of labels for features \n",
    "    params:=python dict parametes for the model\n",
    "    model:=keras model object or sklearn classifier object\n",
    "    test_size:=Float (0,1) fraction for test split\n",
    "    return\n",
    "    model:=str 'keras','lgb'\n",
    "    train_score:=float balanced accuracy train score\n",
    "    test_score:=float balanced accuracy test score\n",
    "    returns-trained model,train_score,test_score\n",
    "    '''\n",
    "    X_train,X_test,y_train,y_test = train_test_split(Data,label,test_size=test_size,random_state=42)\n",
    "    if classifier=='lgb':\n",
    "        if 'num_leaves' in params:\n",
    "            params['num_leaves']=int(params['num_leaves'])\n",
    "        if 'max_depth' in params:\n",
    "            #max_depth=[-1,9,12]#max_depth choice list\n",
    "            params['max_depth']=-1#int(params['max_depth'])#best returns an index corresponding the choice\n",
    "        clf = lgb.LGBMClassifier(n_estimators=5000,**params)\n",
    "        clf.fit(X_train,y_train,eval_set=(X_test,y_test),early_stopping_rounds =200,eval_metric='auc',verbose=False)\n",
    "        train_pred=clf.predict(X_train)\n",
    "        test_pred=clf.predict(X_test)\n",
    "    elif classifier=='keras':\n",
    "        opt=['adam','sgd']\n",
    "        if 'optimizer' in params:\n",
    "            params['optimizer'] =opt[params['optimizer']]\n",
    "        clf = model(feature_size=X_train.shape[-1],**params)\n",
    "        clf.fit(X_train,y_train,epochs=20,batch_size=128,verbose=0)\n",
    "        train_pred=np.round(clf.predict(X_train))\n",
    "        test_pred=np.round(clf.predict(X_test))\n",
    "    train_score = balanced_accuracy_score(train_pred,y_train)\n",
    "    test_score= balanced_accuracy_score(test_pred,y_test)\n",
    "    return clf,train_score,test_score"
   ]
  },
  {
   "cell_type": "code",
   "execution_count": 13,
   "metadata": {},
   "outputs": [
    {
     "name": "stdout",
     "output_type": "stream",
     "text": [
      "{'colsample_bytree': 0.8885645944897853, 'lr': 0.06577823295361401, 'max_depth': 0, 'num_leaves': 27.0}\n",
      "{'colsample_bytree': 0.7417506062288691, 'lr': 0.014273085467069426, 'max_depth': 0, 'num_leaves': 19.0}\n",
      "{'colsample_bytree': 0.747983242114469, 'lr': 0.01015619803851726, 'max_depth': 0, 'num_leaves': 33.0}\n"
     ]
    }
   ],
   "source": [
    "print(best_e)\n",
    "print(best_scaled)\n",
    "print(best_transformed)"
   ]
  },
  {
   "cell_type": "code",
   "execution_count": 14,
   "metadata": {},
   "outputs": [],
   "source": [
    "clf_encoded,lgb_train_encoded,lgb_test_encoded=model_trainer(df_encoded,label,best_e)\n",
    "clf_scaled,lgb_train_scaled,lgb_test_scaled=model_trainer(df_scaled,label,best_scaled)\n",
    "clf_transformed,lgb_train_transformed,lgb_test_transformed=model_trainer(df_transformed,label,best_transformed)"
   ]
  },
  {
   "cell_type": "code",
   "execution_count": 15,
   "metadata": {},
   "outputs": [
    {
     "name": "stdout",
     "output_type": "stream",
     "text": [
      "results\n",
      "| Dataset Type | Train Score | Test Score |\n",
      "| Encoded      | 0.884920       | 0.821259     |\n",
      "| Scaled       | 0.880881       | 0.818691     |\n",
      "| Transformed  | 0.880881       | 0.818691     |\n"
     ]
    }
   ],
   "source": [
    "print(\"results\")\n",
    "print(\"| Dataset Type | Train Score | Test Score |\")\n",
    "print(\"| Encoded      | {:2f}       | {:2f}     |\".format(lgb_train_encoded,lgb_test_encoded))\n",
    "print(\"| Scaled       | {:2f}       | {:2f}     |\".format(lgb_train_scaled,lgb_test_scaled))\n",
    "print(\"| Transformed  | {:2f}       | {:2f}     |\".format(lgb_train_scaled,lgb_test_scaled))"
   ]
  },
  {
   "cell_type": "markdown",
   "metadata": {},
   "source": [
    "# optimization and selection for neural network"
   ]
  },
  {
   "cell_type": "code",
   "execution_count": 17,
   "metadata": {},
   "outputs": [],
   "source": [
    "from keras.models import Sequential\n",
    "from keras.layers import Dense, Dropout\n",
    "from keras.optimizers import Adam, SGD\n",
    "from keras.callbacks import EarlyStopping"
   ]
  },
  {
   "cell_type": "code",
   "execution_count": 18,
   "metadata": {},
   "outputs": [],
   "source": [
    "skf = StratifiedKFold(n_splits=5, random_state=None, shuffle=True)"
   ]
  },
  {
   "cell_type": "code",
   "execution_count": 19,
   "metadata": {},
   "outputs": [],
   "source": [
    "def model(feature_size,lr=0.1,optimizer='adam',hl_size=128):\n",
    "    ''' function to define keras model\n",
    "    :feature:=\n",
    "    '''\n",
    "    if optimizer=='adam':\n",
    "        opt =Adam(lr=lr)\n",
    "    elif optimizer=='sgd':\n",
    "        opt = SGD(lr=lr)\n",
    "    hl_size=int(hl_size)\n",
    "    model =Sequential()\n",
    "    model.add(Dense(hl_size,activation='relu',input_shape=(feature_size,)))\n",
    "    model.add(Dropout(0.25))\n",
    "    model.add(Dense(hl_size,activation='relu'))\n",
    "    model.add(Dense(1,activation='sigmoid'))\n",
    "    model.compile(optimizer=opt,loss='binary_crossentropy',metrics=['acc'])\n",
    "    return model"
   ]
  },
  {
   "cell_type": "code",
   "execution_count": 20,
   "metadata": {},
   "outputs": [],
   "source": [
    "def keras_optimizer(params):\n",
    "    val_score=[]\n",
    "    true_scores=[]\n",
    "    rd=1\n",
    "    for train_index, test_index in skf.split(X_train, y_train):\n",
    "        X_tr, X_val = X_train.iloc[train_index], X_train.iloc[test_index]\n",
    "        y_tr, y_val = y_train.iloc[train_index], y_train.iloc[test_index]\n",
    "        nn_model = model(X_train.shape[1],**params)\n",
    "        cb = EarlyStopping(monitor='val_acc',min_delta=0.001,patience=3)\n",
    "        nn_model.fit(X_tr,y_tr,validation_data=(X_val,y_val),batch_size=128,callbacks=[cb],epochs=50,verbose=0)\n",
    "        #_,score= nn_model.evaluate(X_val,y_val)\n",
    "        #_,true_score=nn_model.evaluate(X_tr,y_tr)\n",
    "        cv_pred = np.round(nn_model.predict(X_val))\n",
    "        score=balanced_accuracy_score(y_val,cv_pred)\n",
    "        y_tr_pred = np.round(nn_model.predict(X_tr))\n",
    "        true_score=balanced_accuracy_score(y_tr,y_tr_pred)\n",
    "        \n",
    "        val_score.append(score)\n",
    "        true_scores.append(true_score)\n",
    "        rd+=1\n",
    "    mean,std =np.mean(val_score),np.std(val_score)\n",
    "    true_mean=np.mean(true_scores)\n",
    "    print(\"mean: {}, Std: {}\".format(mean,std))\n",
    "    return {'loss':-mean,'status': STATUS_OK,'true_loss':-true_mean}"
   ]
  },
  {
   "cell_type": "code",
   "execution_count": 21,
   "metadata": {},
   "outputs": [],
   "source": [
    "keras_space = {'lr':hp.loguniform('lr',-10,-2.3),'optimizer':hp.choice('optimizer',['adam','sgd'])}"
   ]
  },
  {
   "cell_type": "code",
   "execution_count": 22,
   "metadata": {},
   "outputs": [
    {
     "name": "stdout",
     "output_type": "stream",
     "text": [
      "  0%|                                                                           | 0/10 [00:00<?, ?trial/s, best loss=?]WARNING:tensorflow:From C:\\Users\\SRAVAN\\Anaconda3\\lib\\site-packages\\keras\\backend\\tensorflow_backend.py:74: The name tf.get_default_graph is deprecated. Please use tf.compat.v1.get_default_graph instead.\n",
      "\n",
      "WARNING:tensorflow:From C:\\Users\\SRAVAN\\Anaconda3\\lib\\site-packages\\keras\\backend\\tensorflow_backend.py:517: The name tf.placeholder is deprecated. Please use tf.compat.v1.placeholder instead.\n",
      "\n",
      "WARNING:tensorflow:From C:\\Users\\SRAVAN\\Anaconda3\\lib\\site-packages\\keras\\backend\\tensorflow_backend.py:4138: The name tf.random_uniform is deprecated. Please use tf.random.uniform instead.\n",
      "\n",
      "WARNING:tensorflow:From C:\\Users\\SRAVAN\\Anaconda3\\lib\\site-packages\\keras\\backend\\tensorflow_backend.py:133: The name tf.placeholder_with_default is deprecated. Please use tf.compat.v1.placeholder_with_default instead.\n",
      "\n",
      "WARNING:tensorflow:From C:\\Users\\SRAVAN\\Anaconda3\\lib\\site-packages\\keras\\backend\\tensorflow_backend.py:3445: calling dropout (from tensorflow.python.ops.nn_ops) with keep_prob is deprecated and will be removed in a future version.\n",
      "Instructions for updating:\n",
      "Please use `rate` instead of `keep_prob`. Rate should be set to `rate = 1 - keep_prob`.\n",
      "WARNING:tensorflow:From C:\\Users\\SRAVAN\\Anaconda3\\lib\\site-packages\\keras\\optimizers.py:790: The name tf.train.Optimizer is deprecated. Please use tf.compat.v1.train.Optimizer instead.\n",
      "\n",
      "WARNING:tensorflow:From C:\\Users\\SRAVAN\\Anaconda3\\lib\\site-packages\\keras\\backend\\tensorflow_backend.py:3376: The name tf.log is deprecated. Please use tf.math.log instead.\n",
      "\n",
      "WARNING:tensorflow:From C:\\Users\\SRAVAN\\Anaconda3\\lib\\site-packages\\tensorflow\\python\\ops\\nn_impl.py:180: add_dispatch_support.<locals>.wrapper (from tensorflow.python.ops.array_ops) is deprecated and will be removed in a future version.\n",
      "Instructions for updating:\n",
      "Use tf.where in 2.0, which has the same broadcast rule as np.where\n",
      "mean: 0.5215573548212141, Std: 0.05745048923006877                                                                     \n",
      "mean: 0.5007909055577147, Std: 0.0015818111154294544                                                                   \n",
      "mean: 0.5074329576369996, Std: 0.014865915273999209                                                                    \n",
      "mean: 0.641283424331076, Std: 0.045447356429562026                                                                     \n",
      "mean: 0.5335596404912254, Std: 0.05044974509334483                                                                     \n",
      "mean: 0.5635169388267728, Std: 0.0903249889770006                                                                      \n",
      "mean: 0.5, Std: 0.0                                                                                                    \n",
      "mean: 0.6426235092845191, Std: 0.010683242275649018                                                                    \n",
      "mean: 0.6844883798236198, Std: 0.047207557794920384                                                                    \n",
      "mean: 0.5, Std: 0.0                                                                                                    \n",
      "100%|███████████████████████████████████████████████| 10/10 [04:02<00:00, 24.26s/trial, best loss: -0.6844883798236198]\n"
     ]
    }
   ],
   "source": [
    "X_train,X_test,y_train,y_test = train_test_split(df_encoded,label,test_size=0.2,random_state=42)\n",
    "best_nn_encoded=fmin(keras_optimizer,keras_space,algo=tpe.suggest,max_evals=10)"
   ]
  },
  {
   "cell_type": "code",
   "execution_count": 23,
   "metadata": {},
   "outputs": [
    {
     "name": "stdout",
     "output_type": "stream",
     "text": [
      "mean: 0.5, Std: 0.0                                                                                                    \n",
      "mean: 0.7393783952322098, Std: 0.007527110148411808                                                                    \n",
      "mean: 0.6741905241544958, Std: 0.029698793457618503                                                                    \n",
      "mean: 0.7084956942175923, Std: 0.024786666620602762                                                                    \n",
      "mean: 0.6289023535277922, Std: 0.06522974574685274                                                                     \n",
      "mean: 0.7336771294284075, Std: 0.017717439298496857                                                                    \n",
      "mean: 0.5, Std: 0.0                                                                                                    \n",
      "mean: 0.5, Std: 0.0                                                                                                    \n",
      "mean: 0.5, Std: 0.0                                                                                                    \n",
      "mean: 0.7023694050134779, Std: 0.019679650661676422                                                                    \n",
      "100%|███████████████████████████████████████████████| 10/10 [07:37<00:00, 45.70s/trial, best loss: -0.7393783952322098]\n"
     ]
    }
   ],
   "source": [
    "X_train,X_test,y_train,y_test = train_test_split(df_scaled,label,test_size=0.2,random_state=42)\n",
    "best_nn_scaled=fmin(keras_optimizer,keras_space,algo=tpe.suggest,max_evals=10)"
   ]
  },
  {
   "cell_type": "code",
   "execution_count": 24,
   "metadata": {},
   "outputs": [
    {
     "name": "stdout",
     "output_type": "stream",
     "text": [
      "mean: 0.7932537243674418, Std: 0.008041240106696983                                                                    \n",
      "mean: 0.791987495672973, Std: 0.018204200553762487                                                                     \n",
      "mean: 0.6764462642604439, Std: 0.14210647002665103                                                                     \n",
      "mean: 0.7992389431181838, Std: 0.015950425505198023                                                                    \n",
      "mean: 0.5002623396813058, Std: 0.0005246793626117352                                                                   \n",
      "mean: 0.5167884399333669, Std: 0.023800313526634514                                                                    \n",
      "mean: 0.6231682523059774, Std: 0.15053706549180634                                                                     \n",
      "mean: 0.7819626394802318, Std: 0.02031288953903767                                                                     \n",
      "mean: 0.6167398272688305, Std: 0.14221083158874726                                                                     \n",
      "mean: 0.7895332684331351, Std: 0.025026295304139502                                                                    \n",
      "100%|██████████████████████████████████████████████| 10/10 [28:36<00:00, 171.64s/trial, best loss: -0.7992389431181838]\n"
     ]
    }
   ],
   "source": [
    "\n",
    "X_train,X_test,y_train,y_test = train_test_split(df_transformed,label,test_size=0.2,random_state=42)\n",
    "best_nn_transformed=fmin(keras_optimizer,keras_space,algo=tpe.suggest,max_evals=10)"
   ]
  },
  {
   "cell_type": "code",
   "execution_count": 25,
   "metadata": {},
   "outputs": [
    {
     "name": "stdout",
     "output_type": "stream",
     "text": [
      "{'lr': 0.0004298900743000922, 'optimizer': 0}\n",
      "{'lr': 0.0026661931452672664, 'optimizer': 0}\n",
      "{'lr': 0.0007367105684657945, 'optimizer': 0}\n"
     ]
    }
   ],
   "source": [
    "print(best_nn_encoded)\n",
    "print(best_nn_scaled)\n",
    "print(best_nn_transformed)"
   ]
  },
  {
   "cell_type": "code",
   "execution_count": 26,
   "metadata": {},
   "outputs": [],
   "source": [
    "_,nn_train_encoded,nn_test_encoded = model_trainer(df_encoded,label,best_nn_encoded,'keras')\n",
    "_,nn_train_scaled,nn_test_scaled = model_trainer(df_scaled,label,best_nn_scaled,'keras')\n",
    "_,nn_train_transformed,nn_test_transformed = model_trainer(df_transformed,label,best_nn_transformed,'keras')"
   ]
  },
  {
   "cell_type": "code",
   "execution_count": 27,
   "metadata": {},
   "outputs": [
    {
     "name": "stdout",
     "output_type": "stream",
     "text": [
      "|              |        neural network            |       Boosted Trees       |\n",
      "| Dataset Type | Train Score     | Test Score     |Train Score   | Test Score |\n",
      "| Encoded      | 0.8310          | 0.8040         | 0.8849       | 0.8213     |\n",
      "| Scaled       | 0.8977          | 0.7962         | 0.8809       | 0.8187     |\n",
      "| Transformed  | 0.8977          | 0.7962         | 0.8809       | 0.8187     |\n"
     ]
    }
   ],
   "source": [
    "\n",
    "print(\"|              |        neural network            |       Boosted Trees       |\")\n",
    "print(\"| Dataset Type | Train Score     | Test Score     |Train Score   | Test Score |\")\n",
    "print(\"| Encoded      | {:.4f}          | {:.4f}         | {:.4f}       | {:.4f}     |\".format(nn_train_encoded,nn_test_encoded,lgb_train_encoded,lgb_test_encoded))\n",
    "print(\"| Scaled       | {:.4f}          | {:.4f}         | {:.4f}       | {:.4f}     |\".format(nn_train_scaled,nn_test_scaled,lgb_train_scaled,lgb_test_scaled))\n",
    "print(\"| Transformed  | {:.4f}          | {:.4f}         | {:.4f}       | {:.4f}     |\".format(nn_train_scaled,nn_test_scaled,lgb_train_scaled,lgb_test_scaled))"
   ]
  },
  {
   "cell_type": "code",
   "execution_count": 28,
   "metadata": {},
   "outputs": [
    {
     "data": {
      "text/plain": [
       "['lgb_best.pkl']"
      ]
     },
     "execution_count": 28,
     "metadata": {},
     "output_type": "execute_result"
    }
   ],
   "source": [
    "#Save the model\n",
    "from sklearn.externals import joblib\n",
    "joblib.dump(clf_encoded, 'lgb_best.pkl')"
   ]
  },
  {
   "cell_type": "code",
   "execution_count": 29,
   "metadata": {},
   "outputs": [
    {
     "data": {
      "text/plain": [
       "<matplotlib.axes._subplots.AxesSubplot at 0x17e6d53d128>"
      ]
     },
     "execution_count": 29,
     "metadata": {},
     "output_type": "execute_result"
    },
    {
     "data": {
      "image/png": "[encoded data removed]",
      "text/plain": [
       "<Figure size 432x288 with 1 Axes>"
      ]
     },
     "metadata": {
      "needs_background": "light"
     },
     "output_type": "display_data"
    }
   ],
   "source": [
    "%matplotlib inline\n",
    "lgb.plot_importance(clf_encoded,max_num_features=12)"
   ]
  },
  {
   "cell_type": "markdown",
   "metadata": {},
   "source": [
    "\n",
    "### Conclusion\n",
    "##### The top 12 features affecting the buying intentions were identified. These features can be further isolated depending upon the applications. For eg. Exit would be a good measure of how well personalized webpages are working for users. A simple A/B test can be carried out with and without personalization and exit rates as well as other features can be monitored. Change in these features would indicate a change in buying intent and tell us if the test was succesfull."
   ]
  }
 ],
 "metadata": {
  "kernelspec": {
   "display_name": "Python 3",
   "language": "python",
   "name": "python3"
  },
  "language_info": {
   "codemirror_mode": {
    "name": "ipython",
    "version": 3
   },
   "file_extension": ".py",
   "mimetype": "text/x-python",
   "name": "python",
   "nbconvert_exporter": "python",
   "pygments_lexer": "ipython3",
   "version": "3.7.3"
  }
 },
 "nbformat": 4,
 "nbformat_minor": 4
}
